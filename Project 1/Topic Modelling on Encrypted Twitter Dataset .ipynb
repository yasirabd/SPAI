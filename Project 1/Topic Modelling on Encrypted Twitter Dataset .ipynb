{
 "cells": [
  {
   "cell_type": "markdown",
   "metadata": {},
   "source": [
    "# Topic Modelling on Encrpyted Twitter Dataset\n",
    "*Author: Yasir Abdur Rohman*\n",
    "<hr>"
   ]
  },
  {
   "cell_type": "markdown",
   "metadata": {},
   "source": [
    "# Introduction\n",
    "In this notebook, I will implement Topic Modelling with Latent Dirichlet on Encrypted Twitter Dataset. \n",
    "\n",
    "Twitter is one of the social media that has followed the GDPR rules to protect the privacy of each user. However, we can still access tweets from many users by using the Twitter API. Even though there is an agreement to use the Twitter API wisely, it will still damage the privacy of other users who don't want their tweets to be taken. Therefore, here we will implement Encrypted Twitter Dataset as a privacy protection from the user.\n",
    "\n",
    "And after we encrypt the Twitter dataset, we can still implement AI securely. Here, we will apply Topic Modeling to uncover abstract themes based on the underlying tweet documents and words in a corpus of text.\n",
    "\n",
    "The project consists of the following steps:\n",
    "1. Crawling Twitter Dataset\n",
    "2. Exploratory Data Analysis\n",
    "3. Implement Encrypted Twitter Dataset\n",
    "4. Topic Modelling"
   ]
  },
  {
   "cell_type": "markdown",
   "metadata": {},
   "source": [
    "# Step 1: Crawling Twitter Dataset"
   ]
  },
  {
   "cell_type": "code",
   "execution_count": 34,
   "metadata": {},
   "outputs": [
    {
     "data": {
      "text/html": [
       "        <script type=\"text/javascript\">\n",
       "        window.PlotlyConfig = {MathJaxConfig: 'local'};\n",
       "        if (window.MathJax) {MathJax.Hub.Config({SVG: {font: \"STIX-Web\"}});}\n",
       "        if (typeof require !== 'undefined') {\n",
       "        require.undef(\"plotly\");\n",
       "        requirejs.config({\n",
       "            paths: {\n",
       "                'plotly': ['https://cdn.plot.ly/plotly-latest.min']\n",
       "            }\n",
       "        });\n",
       "        require(['plotly'], function(Plotly) {\n",
       "            window._Plotly = Plotly;\n",
       "        });\n",
       "        }\n",
       "        </script>\n",
       "        "
      ]
     },
     "metadata": {},
     "output_type": "display_data"
    }
   ],
   "source": [
    "# import library\n",
    "\n",
    "import pandas as pd\n",
    "import numpy as np\n",
    "import matplotlib.pyplot as plt\n",
    "import string\n",
    "import time\n",
    "\n",
    "# import dotenv\n",
    "import os\n",
    "from dotenv import load_dotenv\n",
    "\n",
    "# import tweepy\n",
    "import tweepy\n",
    "\n",
    "# datetime\n",
    "from datetime import datetime, timedelta\n",
    "\n",
    "# plotly\n",
    "from plotly.offline import download_plotlyjs, init_notebook_mode, plot, iplot\n",
    "import plotly as py\n",
    "import plotly.graph_objs as go\n",
    "\n",
    "init_notebook_mode(connected=True) #do not miss this line\n",
    "\n",
    "# gensim\n",
    "from gensim import corpora, models, similarities\n",
    "\n",
    "import warnings\n",
    "warnings.filterwarnings(\"ignore\")"
   ]
  },
  {
   "cell_type": "markdown",
   "metadata": {},
   "source": [
    "We need Twitter API to crawl Twitter dataset. So, let's setting up for Twitter crawler first. "
   ]
  },
  {
   "cell_type": "code",
   "execution_count": 35,
   "metadata": {},
   "outputs": [],
   "source": [
    "# load env file\n",
    "load_dotenv(\".env\")\n",
    "\n",
    "# setting API Twitter\n",
    "TWITTER_API_KEY = os.getenv('TWITTER_API_KEY')\n",
    "TWITTER_API_SECRET_KEY = os.getenv('TWITTER_API_SECRET_KEY')\n",
    "TWITTER_ACCESS_TOKEN = os.getenv('TWITTER_ACCESS_TOKEN')\n",
    "TWITTER_ACCESS_TOKEN_SECRET = os.getenv('TWITTER_ACCESS_TOKEN_SECRET')\n",
    "\n",
    "auth = tweepy.OAuthHandler(TWITTER_API_KEY, TWITTER_API_SECRET_KEY)\n",
    "auth.set_access_token(TWITTER_ACCESS_TOKEN, TWITTER_ACCESS_TOKEN_SECRET)\n",
    "api = tweepy.API(auth, wait_on_rate_limit=True)"
   ]
  },
  {
   "cell_type": "markdown",
   "metadata": {},
   "source": [
    "In this project, we can setting up some parameters as follows:\n",
    "- **maximum_days:** the age of the tweet document from the current time.\n",
    "- **query:** keywords for searching tweet documents"
   ]
  },
  {
   "cell_type": "code",
   "execution_count": 36,
   "metadata": {},
   "outputs": [],
   "source": [
    "# initialize crawler parameters\n",
    "\n",
    "# date\n",
    "maximum_days = 7 # 7 days, so we will get all of the tweet documents from 7 days before\n",
    "today = datetime.today()\n",
    "date_max = today - timedelta(days=maximum_days)\n",
    "\n",
    "# query\n",
    "query = \"#Udacity OR #udacity OR Udacity OR udacity\""
   ]
  },
  {
   "cell_type": "markdown",
   "metadata": {},
   "source": [
    "Next, we will save the results of crawling the tweet document into the <code>pandas dataframe</code> .\n",
    "\n",
    "The fields from the tweet document that we will obtain are as follows:\n",
    "- **username:** users\n",
    "- **created_at:** the date when the tweet created\n",
    "- **text:** text of the tweet"
   ]
  },
  {
   "cell_type": "code",
   "execution_count": 37,
   "metadata": {},
   "outputs": [],
   "source": [
    "# initialize dataframe\n",
    "df_tweet = pd.DataFrame({'username': [], 'created_at': [], 'text': []})\n",
    "\n",
    "# crawling tweet documents\n",
    "c = tweepy.Cursor(api.search, q=query, tweet_mode='extended').items()\n",
    "while True:\n",
    "    try:\n",
    "        tweet = c.next()\n",
    "        \n",
    "        # get clean tweet without RT\n",
    "        if (not tweet.retweeted) and ('RT @' not in tweet.full_text):\n",
    "            username = tweet.user.screen_name\n",
    "            created = tweet.created_at\n",
    "            text = tweet.full_text.encode('utf-8', 'ignore').decode('utf-8', 'ignore')\n",
    "\n",
    "            # get tweet documents before maximum_days\n",
    "            if tweet.created_at < date_max:\n",
    "                break\n",
    "            df_tweet = df_tweet.append({'username': username, 'created_at': created, \n",
    "                                        'text': text}, ignore_index=True)\n",
    "                       \n",
    "    except tweepy.TweepError as e:\n",
    "        print(e.reason)\n",
    "        time.sleep(15 * 60)\n",
    "        continue\n",
    "    except StopIteration:\n",
    "        break"
   ]
  },
  {
   "cell_type": "markdown",
   "metadata": {},
   "source": [
    "# Step 2: Exploratory Data Analysis"
   ]
  },
  {
   "cell_type": "code",
   "execution_count": 38,
   "metadata": {},
   "outputs": [
    {
     "data": {
      "text/html": [
       "<div>\n",
       "<style scoped>\n",
       "    .dataframe tbody tr th:only-of-type {\n",
       "        vertical-align: middle;\n",
       "    }\n",
       "\n",
       "    .dataframe tbody tr th {\n",
       "        vertical-align: top;\n",
       "    }\n",
       "\n",
       "    .dataframe thead th {\n",
       "        text-align: right;\n",
       "    }\n",
       "</style>\n",
       "<table border=\"1\" class=\"dataframe\">\n",
       "  <thead>\n",
       "    <tr style=\"text-align: right;\">\n",
       "      <th></th>\n",
       "      <th>username</th>\n",
       "      <th>created_at</th>\n",
       "      <th>text</th>\n",
       "    </tr>\n",
       "  </thead>\n",
       "  <tbody>\n",
       "    <tr>\n",
       "      <th>0</th>\n",
       "      <td>JustNowBulletin</td>\n",
       "      <td>2019-08-20 14:20:11</td>\n",
       "      <td>Udacity AWS DeepRacer Scholarship Challenge fo...</td>\n",
       "    </tr>\n",
       "    <tr>\n",
       "      <th>1</th>\n",
       "      <td>sustaintrain</td>\n",
       "      <td>2019-08-20 14:15:10</td>\n",
       "      <td>A new Udacity Green IT training course has bee...</td>\n",
       "    </tr>\n",
       "    <tr>\n",
       "      <th>2</th>\n",
       "      <td>Upwork</td>\n",
       "      <td>2019-08-20 13:20:49</td>\n",
       "      <td>Back to School Isn’t Just For Kids: 20 Courses...</td>\n",
       "    </tr>\n",
       "    <tr>\n",
       "      <th>3</th>\n",
       "      <td>frengki_17</td>\n",
       "      <td>2019-08-20 13:17:23</td>\n",
       "      <td>@onnowpurbo Belajar tensorflow yang di udacity...</td>\n",
       "    </tr>\n",
       "    <tr>\n",
       "      <th>4</th>\n",
       "      <td>javaquantum</td>\n",
       "      <td>2019-08-20 13:14:13</td>\n",
       "      <td>@xsahil03x @GoogleIndia @udacity Congratulatio...</td>\n",
       "    </tr>\n",
       "    <tr>\n",
       "      <th>5</th>\n",
       "      <td>RahulSi88662093</td>\n",
       "      <td>2019-08-20 13:08:38</td>\n",
       "      <td>@anandjha_98 @kala83 @Google @udacity Please r...</td>\n",
       "    </tr>\n",
       "    <tr>\n",
       "      <th>6</th>\n",
       "      <td>MaramAlroshoud</td>\n",
       "      <td>2019-08-20 12:49:10</td>\n",
       "      <td>وشو مسك يوداستي؟ — https://t.co/UC0Y4m9Foo htt...</td>\n",
       "    </tr>\n",
       "    <tr>\n",
       "      <th>7</th>\n",
       "      <td>SafeScholarship</td>\n",
       "      <td>2019-08-20 12:29:52</td>\n",
       "      <td>Udacity AWS DeepRacer Scholarship Challenge fo...</td>\n",
       "    </tr>\n",
       "    <tr>\n",
       "      <th>8</th>\n",
       "      <td>0xAlsharif</td>\n",
       "      <td>2019-08-20 12:29:09</td>\n",
       "      <td>Networking for Web Developers. https://t.co/Hf...</td>\n",
       "    </tr>\n",
       "    <tr>\n",
       "      <th>9</th>\n",
       "      <td>0xAlsharif</td>\n",
       "      <td>2019-08-20 12:19:33</td>\n",
       "      <td>تحية وتقدير للمواقع والمصادر التعليمية اللي تج...</td>\n",
       "    </tr>\n",
       "  </tbody>\n",
       "</table>\n",
       "</div>"
      ],
      "text/plain": [
       "          username          created_at  \\\n",
       "0  JustNowBulletin 2019-08-20 14:20:11   \n",
       "1     sustaintrain 2019-08-20 14:15:10   \n",
       "2           Upwork 2019-08-20 13:20:49   \n",
       "3       frengki_17 2019-08-20 13:17:23   \n",
       "4      javaquantum 2019-08-20 13:14:13   \n",
       "5  RahulSi88662093 2019-08-20 13:08:38   \n",
       "6   MaramAlroshoud 2019-08-20 12:49:10   \n",
       "7  SafeScholarship 2019-08-20 12:29:52   \n",
       "8       0xAlsharif 2019-08-20 12:29:09   \n",
       "9       0xAlsharif 2019-08-20 12:19:33   \n",
       "\n",
       "                                                text  \n",
       "0  Udacity AWS DeepRacer Scholarship Challenge fo...  \n",
       "1  A new Udacity Green IT training course has bee...  \n",
       "2  Back to School Isn’t Just For Kids: 20 Courses...  \n",
       "3  @onnowpurbo Belajar tensorflow yang di udacity...  \n",
       "4  @xsahil03x @GoogleIndia @udacity Congratulatio...  \n",
       "5  @anandjha_98 @kala83 @Google @udacity Please r...  \n",
       "6  وشو مسك يوداستي؟ — https://t.co/UC0Y4m9Foo htt...  \n",
       "7  Udacity AWS DeepRacer Scholarship Challenge fo...  \n",
       "8  Networking for Web Developers. https://t.co/Hf...  \n",
       "9  تحية وتقدير للمواقع والمصادر التعليمية اللي تج...  "
      ]
     },
     "execution_count": 38,
     "metadata": {},
     "output_type": "execute_result"
    }
   ],
   "source": [
    "# let's see our twitter dataset\n",
    "df_tweet.head(10)"
   ]
  },
  {
   "cell_type": "code",
   "execution_count": 39,
   "metadata": {},
   "outputs": [
    {
     "name": "stdout",
     "output_type": "stream",
     "text": [
      "The number of tweet documents: 493\n"
     ]
    }
   ],
   "source": [
    "# let's counting how many tweet documents that we got\n",
    "print(\"The number of tweet documents:\", len(df_tweet['text']))"
   ]
  },
  {
   "cell_type": "markdown",
   "metadata": {},
   "source": [
    "## Visualizing The Number of Tweets for each day"
   ]
  },
  {
   "cell_type": "code",
   "execution_count": 40,
   "metadata": {},
   "outputs": [
    {
     "data": {
      "application/vnd.plotly.v1+json": {
       "config": {
        "linkText": "Export to plot.ly",
        "plotlyServerURL": "https://plot.ly",
        "showLink": false
       },
       "data": [
        {
         "marker": {
          "color": "blue"
         },
         "opacity": 0.75,
         "type": "histogram",
         "x": [
          "2019-08-20T14:20:11",
          "2019-08-20T14:15:10",
          "2019-08-20T13:20:49",
          "2019-08-20T13:17:23",
          "2019-08-20T13:14:13",
          "2019-08-20T13:08:38",
          "2019-08-20T12:49:10",
          "2019-08-20T12:29:52",
          "2019-08-20T12:29:09",
          "2019-08-20T12:19:33",
          "2019-08-20T11:56:06",
          "2019-08-20T11:55:40",
          "2019-08-20T11:47:58",
          "2019-08-20T11:04:28",
          "2019-08-20T09:09:11",
          "2019-08-20T07:40:02",
          "2019-08-20T07:23:02",
          "2019-08-20T07:10:02",
          "2019-08-20T06:47:44",
          "2019-08-20T06:39:01",
          "2019-08-20T05:56:57",
          "2019-08-20T05:13:20",
          "2019-08-20T04:36:32",
          "2019-08-20T04:33:32",
          "2019-08-20T04:03:08",
          "2019-08-20T03:46:31",
          "2019-08-20T03:44:14",
          "2019-08-20T03:40:56",
          "2019-08-20T03:28:33",
          "2019-08-20T02:50:02",
          "2019-08-20T02:28:57",
          "2019-08-20T02:16:14",
          "2019-08-20T02:14:38",
          "2019-08-20T02:00:27",
          "2019-08-20T02:00:02",
          "2019-08-20T01:54:07",
          "2019-08-20T01:34:01",
          "2019-08-20T01:28:00",
          "2019-08-20T01:13:03",
          "2019-08-20T01:13:01",
          "2019-08-20T01:05:33",
          "2019-08-20T00:54:09",
          "2019-08-20T00:47:07",
          "2019-08-20T00:29:09",
          "2019-08-19T23:50:59",
          "2019-08-19T23:00:03",
          "2019-08-19T22:35:19",
          "2019-08-19T22:28:06",
          "2019-08-19T22:19:16",
          "2019-08-19T21:08:48",
          "2019-08-19T21:00:08",
          "2019-08-19T20:49:48",
          "2019-08-19T19:57:24",
          "2019-08-19T19:55:10",
          "2019-08-19T19:41:41",
          "2019-08-19T19:39:28",
          "2019-08-19T19:32:50",
          "2019-08-19T19:25:05",
          "2019-08-19T19:15:09",
          "2019-08-19T18:34:24",
          "2019-08-19T18:34:16",
          "2019-08-19T18:25:52",
          "2019-08-19T18:18:12",
          "2019-08-19T18:15:07",
          "2019-08-19T18:08:12",
          "2019-08-19T17:54:49",
          "2019-08-19T17:43:33",
          "2019-08-19T17:38:17",
          "2019-08-19T17:35:44",
          "2019-08-19T17:11:28",
          "2019-08-19T17:06:26",
          "2019-08-19T17:00:20",
          "2019-08-19T16:44:14",
          "2019-08-19T16:43:39",
          "2019-08-19T16:32:27",
          "2019-08-19T16:27:01",
          "2019-08-19T16:22:32",
          "2019-08-19T16:22:17",
          "2019-08-19T16:16:12",
          "2019-08-19T16:15:09",
          "2019-08-19T16:12:52",
          "2019-08-19T16:12:23",
          "2019-08-19T16:09:00",
          "2019-08-19T15:52:03",
          "2019-08-19T15:46:59",
          "2019-08-19T15:40:21",
          "2019-08-19T15:26:17",
          "2019-08-19T15:24:44",
          "2019-08-19T15:23:28",
          "2019-08-19T15:17:57",
          "2019-08-19T15:16:48",
          "2019-08-19T15:09:42",
          "2019-08-19T14:58:38",
          "2019-08-19T14:53:21",
          "2019-08-19T14:38:42",
          "2019-08-19T14:21:00",
          "2019-08-19T14:18:34",
          "2019-08-19T14:12:26",
          "2019-08-19T13:53:37",
          "2019-08-19T12:11:14",
          "2019-08-19T12:00:01",
          "2019-08-19T11:41:22",
          "2019-08-19T11:40:36",
          "2019-08-19T11:00:01",
          "2019-08-19T10:35:54",
          "2019-08-19T10:16:30",
          "2019-08-19T09:03:41",
          "2019-08-19T07:54:03",
          "2019-08-19T07:02:35",
          "2019-08-19T06:19:11",
          "2019-08-19T06:09:27",
          "2019-08-19T06:06:59",
          "2019-08-19T05:03:21",
          "2019-08-19T05:03:05",
          "2019-08-19T03:55:35",
          "2019-08-19T01:58:23",
          "2019-08-19T01:53:31",
          "2019-08-19T01:48:26",
          "2019-08-19T01:45:51",
          "2019-08-19T01:13:07",
          "2019-08-19T00:31:08",
          "2019-08-19T00:17:22",
          "2019-08-18T23:22:21",
          "2019-08-18T23:01:54",
          "2019-08-18T22:54:33",
          "2019-08-18T21:00:04",
          "2019-08-18T20:51:24",
          "2019-08-18T20:25:35",
          "2019-08-18T19:44:01",
          "2019-08-18T19:44:00",
          "2019-08-18T19:09:04",
          "2019-08-18T19:00:05",
          "2019-08-18T18:21:12",
          "2019-08-18T18:15:13",
          "2019-08-18T18:15:07",
          "2019-08-18T18:06:13",
          "2019-08-18T18:00:09",
          "2019-08-18T17:59:10",
          "2019-08-18T17:56:21",
          "2019-08-18T17:17:51",
          "2019-08-18T17:12:10",
          "2019-08-18T17:10:25",
          "2019-08-18T17:03:21",
          "2019-08-18T17:01:03",
          "2019-08-18T17:01:01",
          "2019-08-18T16:43:44",
          "2019-08-18T16:37:03",
          "2019-08-18T16:36:39",
          "2019-08-18T16:15:07",
          "2019-08-18T16:02:12",
          "2019-08-18T15:52:10",
          "2019-08-18T15:38:14",
          "2019-08-18T15:09:45",
          "2019-08-18T14:29:27",
          "2019-08-18T14:29:18",
          "2019-08-18T14:14:19",
          "2019-08-18T14:11:49",
          "2019-08-18T13:57:39",
          "2019-08-18T13:24:20",
          "2019-08-18T12:22:54",
          "2019-08-18T12:05:02",
          "2019-08-18T12:00:24",
          "2019-08-18T11:41:30",
          "2019-08-18T11:25:13",
          "2019-08-18T11:25:12",
          "2019-08-18T11:25:12",
          "2019-08-18T10:34:30",
          "2019-08-18T09:37:18",
          "2019-08-18T09:33:28",
          "2019-08-18T07:37:13",
          "2019-08-18T06:33:47",
          "2019-08-18T06:21:12",
          "2019-08-18T05:04:38",
          "2019-08-18T05:00:51",
          "2019-08-18T03:42:11",
          "2019-08-18T03:16:30",
          "2019-08-18T02:19:28",
          "2019-08-18T01:46:59",
          "2019-08-18T01:12:38",
          "2019-08-17T23:50:18",
          "2019-08-17T23:42:23",
          "2019-08-17T22:52:00",
          "2019-08-17T21:12:06",
          "2019-08-17T21:00:04",
          "2019-08-17T20:49:02",
          "2019-08-17T20:43:54",
          "2019-08-17T20:28:26",
          "2019-08-17T20:14:29",
          "2019-08-17T19:34:52",
          "2019-08-17T19:24:38",
          "2019-08-17T19:00:11",
          "2019-08-17T18:38:19",
          "2019-08-17T18:37:04",
          "2019-08-17T18:35:02",
          "2019-08-17T18:15:08",
          "2019-08-17T18:02:53",
          "2019-08-17T17:57:56",
          "2019-08-17T17:44:08",
          "2019-08-17T17:32:34",
          "2019-08-17T17:04:59",
          "2019-08-17T17:03:41",
          "2019-08-17T17:00:18",
          "2019-08-17T16:58:30",
          "2019-08-17T16:47:00",
          "2019-08-17T16:37:49",
          "2019-08-17T16:37:23",
          "2019-08-17T16:16:15",
          "2019-08-17T16:12:05",
          "2019-08-17T15:51:38",
          "2019-08-17T15:46:16",
          "2019-08-17T15:34:20",
          "2019-08-17T15:30:03",
          "2019-08-17T15:12:05",
          "2019-08-17T15:10:51",
          "2019-08-17T15:00:23",
          "2019-08-17T14:58:34",
          "2019-08-17T14:30:54",
          "2019-08-17T14:15:07",
          "2019-08-17T14:12:23",
          "2019-08-17T13:16:31",
          "2019-08-17T13:06:25",
          "2019-08-17T13:01:45",
          "2019-08-17T12:56:46",
          "2019-08-17T12:25:46",
          "2019-08-17T12:04:54",
          "2019-08-17T10:12:17",
          "2019-08-17T10:09:07",
          "2019-08-17T09:59:45",
          "2019-08-17T09:33:00",
          "2019-08-17T09:30:57",
          "2019-08-17T08:34:19",
          "2019-08-17T08:22:42",
          "2019-08-17T07:57:47",
          "2019-08-17T06:12:14",
          "2019-08-17T06:11:53",
          "2019-08-17T06:11:17",
          "2019-08-17T06:11:16",
          "2019-08-17T06:01:01",
          "2019-08-17T05:34:13",
          "2019-08-17T05:19:49",
          "2019-08-17T03:30:56",
          "2019-08-17T03:23:31",
          "2019-08-17T02:11:48",
          "2019-08-17T02:00:03",
          "2019-08-17T01:22:07",
          "2019-08-17T00:58:05",
          "2019-08-17T00:09:37",
          "2019-08-17T00:05:07",
          "2019-08-17T00:04:42",
          "2019-08-16T23:51:12",
          "2019-08-16T23:01:49",
          "2019-08-16T22:05:42",
          "2019-08-16T22:05:01",
          "2019-08-16T21:55:36",
          "2019-08-16T21:44:07",
          "2019-08-16T21:23:45",
          "2019-08-16T21:00:08",
          "2019-08-16T20:52:31",
          "2019-08-16T20:35:02",
          "2019-08-16T20:25:59",
          "2019-08-16T20:10:49",
          "2019-08-16T20:00:08",
          "2019-08-16T19:48:30",
          "2019-08-16T19:27:45",
          "2019-08-16T19:12:09",
          "2019-08-16T19:11:48",
          "2019-08-16T19:03:49",
          "2019-08-16T18:58:21",
          "2019-08-16T18:47:23",
          "2019-08-16T18:46:06",
          "2019-08-16T18:34:12",
          "2019-08-16T18:08:03",
          "2019-08-16T18:05:23",
          "2019-08-16T17:55:54",
          "2019-08-16T17:48:06",
          "2019-08-16T17:00:17",
          "2019-08-16T16:55:16",
          "2019-08-16T16:34:36",
          "2019-08-16T16:32:38",
          "2019-08-16T16:15:12",
          "2019-08-16T15:34:40",
          "2019-08-16T15:26:33",
          "2019-08-16T15:25:53",
          "2019-08-16T15:10:29",
          "2019-08-16T15:00:22",
          "2019-08-16T14:59:08",
          "2019-08-16T14:15:12",
          "2019-08-16T14:03:18",
          "2019-08-16T13:24:25",
          "2019-08-16T13:23:48",
          "2019-08-16T13:16:54",
          "2019-08-16T13:14:23",
          "2019-08-16T11:55:51",
          "2019-08-16T11:55:07",
          "2019-08-16T10:25:08",
          "2019-08-16T10:18:27",
          "2019-08-16T09:17:12",
          "2019-08-16T08:30:17",
          "2019-08-16T08:05:16",
          "2019-08-16T08:03:55",
          "2019-08-16T08:01:30",
          "2019-08-16T07:48:00",
          "2019-08-16T07:30:08",
          "2019-08-16T06:40:17",
          "2019-08-16T05:51:06",
          "2019-08-16T05:35:06",
          "2019-08-16T05:27:20",
          "2019-08-16T04:43:15",
          "2019-08-16T04:17:25",
          "2019-08-16T04:12:21",
          "2019-08-16T03:38:04",
          "2019-08-16T03:10:24",
          "2019-08-16T02:33:51",
          "2019-08-16T02:28:17",
          "2019-08-16T02:10:35",
          "2019-08-16T02:00:04",
          "2019-08-16T01:52:37",
          "2019-08-16T01:46:47",
          "2019-08-16T01:39:01",
          "2019-08-16T01:30:11",
          "2019-08-15T23:53:45",
          "2019-08-15T23:46:25",
          "2019-08-15T23:13:34",
          "2019-08-15T23:00:11",
          "2019-08-15T22:47:27",
          "2019-08-15T22:23:43",
          "2019-08-15T21:44:22",
          "2019-08-15T21:19:57",
          "2019-08-15T21:15:12",
          "2019-08-15T21:00:09",
          "2019-08-15T20:19:44",
          "2019-08-15T20:08:11",
          "2019-08-15T20:02:17",
          "2019-08-15T19:29:58",
          "2019-08-15T19:00:18",
          "2019-08-15T18:53:47",
          "2019-08-15T18:18:56",
          "2019-08-15T18:17:16",
          "2019-08-15T18:15:13",
          "2019-08-15T18:07:46",
          "2019-08-15T18:01:48",
          "2019-08-15T17:52:59",
          "2019-08-15T17:50:17",
          "2019-08-15T17:49:07",
          "2019-08-15T17:46:13",
          "2019-08-15T17:34:31",
          "2019-08-15T17:28:59",
          "2019-08-15T17:12:20",
          "2019-08-15T17:08:09",
          "2019-08-15T17:02:03",
          "2019-08-15T17:01:07",
          "2019-08-15T17:00:24",
          "2019-08-15T16:53:47",
          "2019-08-15T16:49:01",
          "2019-08-15T16:18:15",
          "2019-08-15T16:15:13",
          "2019-08-15T16:01:27",
          "2019-08-15T15:56:00",
          "2019-08-15T15:43:56",
          "2019-08-15T15:01:00",
          "2019-08-15T15:00:17",
          "2019-08-15T14:42:54",
          "2019-08-15T14:20:28",
          "2019-08-15T14:17:52",
          "2019-08-15T13:57:03",
          "2019-08-15T13:57:02",
          "2019-08-15T13:49:41",
          "2019-08-15T13:45:32",
          "2019-08-15T13:44:25",
          "2019-08-15T13:37:12",
          "2019-08-15T13:28:45",
          "2019-08-15T12:42:46",
          "2019-08-15T11:03:20",
          "2019-08-15T09:59:29",
          "2019-08-15T09:59:06",
          "2019-08-15T09:20:36",
          "2019-08-15T09:17:42",
          "2019-08-15T08:59:34",
          "2019-08-15T07:04:33",
          "2019-08-15T07:03:15",
          "2019-08-15T06:52:19",
          "2019-08-15T06:31:15",
          "2019-08-15T06:30:41",
          "2019-08-15T06:30:27",
          "2019-08-15T06:29:53",
          "2019-08-15T06:29:27",
          "2019-08-15T06:28:27",
          "2019-08-15T06:27:57",
          "2019-08-15T06:27:17",
          "2019-08-15T06:26:47",
          "2019-08-15T06:26:03",
          "2019-08-15T06:21:38",
          "2019-08-15T06:21:05",
          "2019-08-15T06:20:38",
          "2019-08-15T04:25:18",
          "2019-08-15T04:00:01",
          "2019-08-15T03:59:07",
          "2019-08-15T02:12:49",
          "2019-08-15T02:07:37",
          "2019-08-15T02:00:04",
          "2019-08-15T01:52:58",
          "2019-08-15T01:47:22",
          "2019-08-15T00:42:53",
          "2019-08-15T00:05:33",
          "2019-08-14T23:14:11",
          "2019-08-14T23:13:20",
          "2019-08-14T23:12:55",
          "2019-08-14T23:02:35",
          "2019-08-14T23:00:06",
          "2019-08-14T22:34:23",
          "2019-08-14T22:11:12",
          "2019-08-14T22:07:30",
          "2019-08-14T21:54:54",
          "2019-08-14T21:41:03",
          "2019-08-14T21:00:08",
          "2019-08-14T20:49:52",
          "2019-08-14T20:42:58",
          "2019-08-14T20:25:42",
          "2019-08-14T20:22:35",
          "2019-08-14T20:19:01",
          "2019-08-14T20:15:11",
          "2019-08-14T19:13:44",
          "2019-08-14T18:53:05",
          "2019-08-14T18:37:19",
          "2019-08-14T18:36:47",
          "2019-08-14T18:36:43",
          "2019-08-14T18:26:49",
          "2019-08-14T18:24:54",
          "2019-08-14T18:21:47",
          "2019-08-14T18:20:16",
          "2019-08-14T18:18:41",
          "2019-08-14T17:54:53",
          "2019-08-14T17:52:50",
          "2019-08-14T17:45:14",
          "2019-08-14T17:44:30",
          "2019-08-14T17:17:33",
          "2019-08-14T17:00:20",
          "2019-08-14T15:53:13",
          "2019-08-14T15:47:51",
          "2019-08-14T15:33:50",
          "2019-08-14T15:31:57",
          "2019-08-14T15:11:39",
          "2019-08-14T15:00:20",
          "2019-08-14T14:20:22",
          "2019-08-14T14:15:11",
          "2019-08-14T13:59:05",
          "2019-08-14T13:55:48",
          "2019-08-14T13:18:45",
          "2019-08-14T12:58:26",
          "2019-08-14T12:27:35",
          "2019-08-14T12:01:21",
          "2019-08-14T11:38:44",
          "2019-08-14T11:34:58",
          "2019-08-14T11:26:01",
          "2019-08-14T11:24:26",
          "2019-08-14T11:20:55",
          "2019-08-14T11:20:37",
          "2019-08-14T10:56:51",
          "2019-08-14T10:56:17",
          "2019-08-14T10:44:53",
          "2019-08-14T10:24:14",
          "2019-08-14T09:07:23",
          "2019-08-14T08:30:57",
          "2019-08-14T08:17:24",
          "2019-08-14T07:34:59",
          "2019-08-14T07:05:47",
          "2019-08-14T07:04:10",
          "2019-08-14T07:00:45",
          "2019-08-14T06:19:43",
          "2019-08-14T06:13:49",
          "2019-08-14T05:54:41",
          "2019-08-14T05:45:02",
          "2019-08-14T05:15:32",
          "2019-08-14T05:02:52",
          "2019-08-14T04:40:41",
          "2019-08-14T04:11:21",
          "2019-08-14T03:15:10",
          "2019-08-14T03:01:55",
          "2019-08-14T02:09:27",
          "2019-08-14T02:00:03",
          "2019-08-14T01:56:07",
          "2019-08-14T01:40:30",
          "2019-08-14T01:19:53",
          "2019-08-14T01:06:25",
          "2019-08-14T01:03:37",
          "2019-08-14T00:57:33",
          "2019-08-14T00:25:22",
          "2019-08-14T00:02:35",
          "2019-08-13T23:54:24",
          "2019-08-13T22:25:51",
          "2019-08-13T22:17:48",
          "2019-08-13T22:17:14",
          "2019-08-13T22:14:52"
         ]
        }
       ],
       "layout": {
        "bargap": 0.2,
        "height": 450,
        "template": {
         "data": {
          "bar": [
           {
            "error_x": {
             "color": "#2a3f5f"
            },
            "error_y": {
             "color": "#2a3f5f"
            },
            "marker": {
             "line": {
              "color": "#E5ECF6",
              "width": 0.5
             }
            },
            "type": "bar"
           }
          ],
          "barpolar": [
           {
            "marker": {
             "line": {
              "color": "#E5ECF6",
              "width": 0.5
             }
            },
            "type": "barpolar"
           }
          ],
          "carpet": [
           {
            "aaxis": {
             "endlinecolor": "#2a3f5f",
             "gridcolor": "white",
             "linecolor": "white",
             "minorgridcolor": "white",
             "startlinecolor": "#2a3f5f"
            },
            "baxis": {
             "endlinecolor": "#2a3f5f",
             "gridcolor": "white",
             "linecolor": "white",
             "minorgridcolor": "white",
             "startlinecolor": "#2a3f5f"
            },
            "type": "carpet"
           }
          ],
          "choropleth": [
           {
            "colorbar": {
             "outlinewidth": 0,
             "ticks": ""
            },
            "type": "choropleth"
           }
          ],
          "contour": [
           {
            "colorbar": {
             "outlinewidth": 0,
             "ticks": ""
            },
            "colorscale": [
             [
              0,
              "#0d0887"
             ],
             [
              0.1111111111111111,
              "#46039f"
             ],
             [
              0.2222222222222222,
              "#7201a8"
             ],
             [
              0.3333333333333333,
              "#9c179e"
             ],
             [
              0.4444444444444444,
              "#bd3786"
             ],
             [
              0.5555555555555556,
              "#d8576b"
             ],
             [
              0.6666666666666666,
              "#ed7953"
             ],
             [
              0.7777777777777778,
              "#fb9f3a"
             ],
             [
              0.8888888888888888,
              "#fdca26"
             ],
             [
              1,
              "#f0f921"
             ]
            ],
            "type": "contour"
           }
          ],
          "contourcarpet": [
           {
            "colorbar": {
             "outlinewidth": 0,
             "ticks": ""
            },
            "type": "contourcarpet"
           }
          ],
          "heatmap": [
           {
            "colorbar": {
             "outlinewidth": 0,
             "ticks": ""
            },
            "colorscale": [
             [
              0,
              "#0d0887"
             ],
             [
              0.1111111111111111,
              "#46039f"
             ],
             [
              0.2222222222222222,
              "#7201a8"
             ],
             [
              0.3333333333333333,
              "#9c179e"
             ],
             [
              0.4444444444444444,
              "#bd3786"
             ],
             [
              0.5555555555555556,
              "#d8576b"
             ],
             [
              0.6666666666666666,
              "#ed7953"
             ],
             [
              0.7777777777777778,
              "#fb9f3a"
             ],
             [
              0.8888888888888888,
              "#fdca26"
             ],
             [
              1,
              "#f0f921"
             ]
            ],
            "type": "heatmap"
           }
          ],
          "heatmapgl": [
           {
            "colorbar": {
             "outlinewidth": 0,
             "ticks": ""
            },
            "colorscale": [
             [
              0,
              "#0d0887"
             ],
             [
              0.1111111111111111,
              "#46039f"
             ],
             [
              0.2222222222222222,
              "#7201a8"
             ],
             [
              0.3333333333333333,
              "#9c179e"
             ],
             [
              0.4444444444444444,
              "#bd3786"
             ],
             [
              0.5555555555555556,
              "#d8576b"
             ],
             [
              0.6666666666666666,
              "#ed7953"
             ],
             [
              0.7777777777777778,
              "#fb9f3a"
             ],
             [
              0.8888888888888888,
              "#fdca26"
             ],
             [
              1,
              "#f0f921"
             ]
            ],
            "type": "heatmapgl"
           }
          ],
          "histogram": [
           {
            "marker": {
             "colorbar": {
              "outlinewidth": 0,
              "ticks": ""
             }
            },
            "type": "histogram"
           }
          ],
          "histogram2d": [
           {
            "colorbar": {
             "outlinewidth": 0,
             "ticks": ""
            },
            "colorscale": [
             [
              0,
              "#0d0887"
             ],
             [
              0.1111111111111111,
              "#46039f"
             ],
             [
              0.2222222222222222,
              "#7201a8"
             ],
             [
              0.3333333333333333,
              "#9c179e"
             ],
             [
              0.4444444444444444,
              "#bd3786"
             ],
             [
              0.5555555555555556,
              "#d8576b"
             ],
             [
              0.6666666666666666,
              "#ed7953"
             ],
             [
              0.7777777777777778,
              "#fb9f3a"
             ],
             [
              0.8888888888888888,
              "#fdca26"
             ],
             [
              1,
              "#f0f921"
             ]
            ],
            "type": "histogram2d"
           }
          ],
          "histogram2dcontour": [
           {
            "colorbar": {
             "outlinewidth": 0,
             "ticks": ""
            },
            "colorscale": [
             [
              0,
              "#0d0887"
             ],
             [
              0.1111111111111111,
              "#46039f"
             ],
             [
              0.2222222222222222,
              "#7201a8"
             ],
             [
              0.3333333333333333,
              "#9c179e"
             ],
             [
              0.4444444444444444,
              "#bd3786"
             ],
             [
              0.5555555555555556,
              "#d8576b"
             ],
             [
              0.6666666666666666,
              "#ed7953"
             ],
             [
              0.7777777777777778,
              "#fb9f3a"
             ],
             [
              0.8888888888888888,
              "#fdca26"
             ],
             [
              1,
              "#f0f921"
             ]
            ],
            "type": "histogram2dcontour"
           }
          ],
          "mesh3d": [
           {
            "colorbar": {
             "outlinewidth": 0,
             "ticks": ""
            },
            "type": "mesh3d"
           }
          ],
          "parcoords": [
           {
            "line": {
             "colorbar": {
              "outlinewidth": 0,
              "ticks": ""
             }
            },
            "type": "parcoords"
           }
          ],
          "scatter": [
           {
            "marker": {
             "colorbar": {
              "outlinewidth": 0,
              "ticks": ""
             }
            },
            "type": "scatter"
           }
          ],
          "scatter3d": [
           {
            "line": {
             "colorbar": {
              "outlinewidth": 0,
              "ticks": ""
             }
            },
            "marker": {
             "colorbar": {
              "outlinewidth": 0,
              "ticks": ""
             }
            },
            "type": "scatter3d"
           }
          ],
          "scattercarpet": [
           {
            "marker": {
             "colorbar": {
              "outlinewidth": 0,
              "ticks": ""
             }
            },
            "type": "scattercarpet"
           }
          ],
          "scattergeo": [
           {
            "marker": {
             "colorbar": {
              "outlinewidth": 0,
              "ticks": ""
             }
            },
            "type": "scattergeo"
           }
          ],
          "scattergl": [
           {
            "marker": {
             "colorbar": {
              "outlinewidth": 0,
              "ticks": ""
             }
            },
            "type": "scattergl"
           }
          ],
          "scattermapbox": [
           {
            "marker": {
             "colorbar": {
              "outlinewidth": 0,
              "ticks": ""
             }
            },
            "type": "scattermapbox"
           }
          ],
          "scatterpolar": [
           {
            "marker": {
             "colorbar": {
              "outlinewidth": 0,
              "ticks": ""
             }
            },
            "type": "scatterpolar"
           }
          ],
          "scatterpolargl": [
           {
            "marker": {
             "colorbar": {
              "outlinewidth": 0,
              "ticks": ""
             }
            },
            "type": "scatterpolargl"
           }
          ],
          "scatterternary": [
           {
            "marker": {
             "colorbar": {
              "outlinewidth": 0,
              "ticks": ""
             }
            },
            "type": "scatterternary"
           }
          ],
          "surface": [
           {
            "colorbar": {
             "outlinewidth": 0,
             "ticks": ""
            },
            "colorscale": [
             [
              0,
              "#0d0887"
             ],
             [
              0.1111111111111111,
              "#46039f"
             ],
             [
              0.2222222222222222,
              "#7201a8"
             ],
             [
              0.3333333333333333,
              "#9c179e"
             ],
             [
              0.4444444444444444,
              "#bd3786"
             ],
             [
              0.5555555555555556,
              "#d8576b"
             ],
             [
              0.6666666666666666,
              "#ed7953"
             ],
             [
              0.7777777777777778,
              "#fb9f3a"
             ],
             [
              0.8888888888888888,
              "#fdca26"
             ],
             [
              1,
              "#f0f921"
             ]
            ],
            "type": "surface"
           }
          ],
          "table": [
           {
            "cells": {
             "fill": {
              "color": "#EBF0F8"
             },
             "line": {
              "color": "white"
             }
            },
            "header": {
             "fill": {
              "color": "#C8D4E3"
             },
             "line": {
              "color": "white"
             }
            },
            "type": "table"
           }
          ]
         },
         "layout": {
          "annotationdefaults": {
           "arrowcolor": "#2a3f5f",
           "arrowhead": 0,
           "arrowwidth": 1
          },
          "colorscale": {
           "diverging": [
            [
             0,
             "#8e0152"
            ],
            [
             0.1,
             "#c51b7d"
            ],
            [
             0.2,
             "#de77ae"
            ],
            [
             0.3,
             "#f1b6da"
            ],
            [
             0.4,
             "#fde0ef"
            ],
            [
             0.5,
             "#f7f7f7"
            ],
            [
             0.6,
             "#e6f5d0"
            ],
            [
             0.7,
             "#b8e186"
            ],
            [
             0.8,
             "#7fbc41"
            ],
            [
             0.9,
             "#4d9221"
            ],
            [
             1,
             "#276419"
            ]
           ],
           "sequential": [
            [
             0,
             "#0d0887"
            ],
            [
             0.1111111111111111,
             "#46039f"
            ],
            [
             0.2222222222222222,
             "#7201a8"
            ],
            [
             0.3333333333333333,
             "#9c179e"
            ],
            [
             0.4444444444444444,
             "#bd3786"
            ],
            [
             0.5555555555555556,
             "#d8576b"
            ],
            [
             0.6666666666666666,
             "#ed7953"
            ],
            [
             0.7777777777777778,
             "#fb9f3a"
            ],
            [
             0.8888888888888888,
             "#fdca26"
            ],
            [
             1,
             "#f0f921"
            ]
           ],
           "sequentialminus": [
            [
             0,
             "#0d0887"
            ],
            [
             0.1111111111111111,
             "#46039f"
            ],
            [
             0.2222222222222222,
             "#7201a8"
            ],
            [
             0.3333333333333333,
             "#9c179e"
            ],
            [
             0.4444444444444444,
             "#bd3786"
            ],
            [
             0.5555555555555556,
             "#d8576b"
            ],
            [
             0.6666666666666666,
             "#ed7953"
            ],
            [
             0.7777777777777778,
             "#fb9f3a"
            ],
            [
             0.8888888888888888,
             "#fdca26"
            ],
            [
             1,
             "#f0f921"
            ]
           ]
          },
          "colorway": [
           "#636efa",
           "#EF553B",
           "#00cc96",
           "#ab63fa",
           "#FFA15A",
           "#19d3f3",
           "#FF6692",
           "#B6E880",
           "#FF97FF",
           "#FECB52"
          ],
          "font": {
           "color": "#2a3f5f"
          },
          "geo": {
           "bgcolor": "white",
           "lakecolor": "white",
           "landcolor": "#E5ECF6",
           "showlakes": true,
           "showland": true,
           "subunitcolor": "white"
          },
          "hoverlabel": {
           "align": "left"
          },
          "hovermode": "closest",
          "mapbox": {
           "style": "light"
          },
          "paper_bgcolor": "white",
          "plot_bgcolor": "#E5ECF6",
          "polar": {
           "angularaxis": {
            "gridcolor": "white",
            "linecolor": "white",
            "ticks": ""
           },
           "bgcolor": "#E5ECF6",
           "radialaxis": {
            "gridcolor": "white",
            "linecolor": "white",
            "ticks": ""
           }
          },
          "scene": {
           "xaxis": {
            "backgroundcolor": "#E5ECF6",
            "gridcolor": "white",
            "gridwidth": 2,
            "linecolor": "white",
            "showbackground": true,
            "ticks": "",
            "zerolinecolor": "white"
           },
           "yaxis": {
            "backgroundcolor": "#E5ECF6",
            "gridcolor": "white",
            "gridwidth": 2,
            "linecolor": "white",
            "showbackground": true,
            "ticks": "",
            "zerolinecolor": "white"
           },
           "zaxis": {
            "backgroundcolor": "#E5ECF6",
            "gridcolor": "white",
            "gridwidth": 2,
            "linecolor": "white",
            "showbackground": true,
            "ticks": "",
            "zerolinecolor": "white"
           }
          },
          "shapedefaults": {
           "line": {
            "color": "#2a3f5f"
           }
          },
          "ternary": {
           "aaxis": {
            "gridcolor": "white",
            "linecolor": "white",
            "ticks": ""
           },
           "baxis": {
            "gridcolor": "white",
            "linecolor": "white",
            "ticks": ""
           },
           "bgcolor": "#E5ECF6",
           "caxis": {
            "gridcolor": "white",
            "linecolor": "white",
            "ticks": ""
           }
          },
          "title": {
           "x": 0.05
          },
          "xaxis": {
           "automargin": true,
           "gridcolor": "white",
           "linecolor": "white",
           "ticks": "",
           "zerolinecolor": "white",
           "zerolinewidth": 2
          },
          "yaxis": {
           "automargin": true,
           "gridcolor": "white",
           "linecolor": "white",
           "ticks": "",
           "zerolinecolor": "white",
           "zerolinewidth": 2
          }
         }
        },
        "title": {
         "text": "Tweet Activity"
        },
        "width": 1000,
        "xaxis": {
         "title": {
          "text": "Date"
         }
        },
        "yaxis": {
         "title": {
          "text": "Tweet Quantity"
         }
        }
       }
      },
      "text/html": [
       "<div>\n",
       "        \n",
       "        \n",
       "            <div id=\"6bf5de12-ba9b-46c4-b349-33bf87a3d043\" class=\"plotly-graph-div\" style=\"height:450px; width:1000px;\"></div>\n",
       "            <script type=\"text/javascript\">\n",
       "                require([\"plotly\"], function(Plotly) {\n",
       "                    window.PLOTLYENV=window.PLOTLYENV || {};\n",
       "                    \n",
       "                if (document.getElementById(\"6bf5de12-ba9b-46c4-b349-33bf87a3d043\")) {\n",
       "                    Plotly.newPlot(\n",
       "                        '6bf5de12-ba9b-46c4-b349-33bf87a3d043',\n",
       "                        [{\"marker\": {\"color\": \"blue\"}, \"opacity\": 0.75, \"type\": \"histogram\", \"x\": [\"2019-08-20T14:20:11\", \"2019-08-20T14:15:10\", \"2019-08-20T13:20:49\", \"2019-08-20T13:17:23\", \"2019-08-20T13:14:13\", \"2019-08-20T13:08:38\", \"2019-08-20T12:49:10\", \"2019-08-20T12:29:52\", \"2019-08-20T12:29:09\", \"2019-08-20T12:19:33\", \"2019-08-20T11:56:06\", \"2019-08-20T11:55:40\", \"2019-08-20T11:47:58\", \"2019-08-20T11:04:28\", \"2019-08-20T09:09:11\", \"2019-08-20T07:40:02\", \"2019-08-20T07:23:02\", \"2019-08-20T07:10:02\", \"2019-08-20T06:47:44\", \"2019-08-20T06:39:01\", \"2019-08-20T05:56:57\", \"2019-08-20T05:13:20\", \"2019-08-20T04:36:32\", \"2019-08-20T04:33:32\", \"2019-08-20T04:03:08\", \"2019-08-20T03:46:31\", \"2019-08-20T03:44:14\", \"2019-08-20T03:40:56\", \"2019-08-20T03:28:33\", \"2019-08-20T02:50:02\", \"2019-08-20T02:28:57\", \"2019-08-20T02:16:14\", \"2019-08-20T02:14:38\", \"2019-08-20T02:00:27\", \"2019-08-20T02:00:02\", \"2019-08-20T01:54:07\", \"2019-08-20T01:34:01\", \"2019-08-20T01:28:00\", \"2019-08-20T01:13:03\", \"2019-08-20T01:13:01\", \"2019-08-20T01:05:33\", \"2019-08-20T00:54:09\", \"2019-08-20T00:47:07\", \"2019-08-20T00:29:09\", \"2019-08-19T23:50:59\", \"2019-08-19T23:00:03\", \"2019-08-19T22:35:19\", \"2019-08-19T22:28:06\", \"2019-08-19T22:19:16\", \"2019-08-19T21:08:48\", \"2019-08-19T21:00:08\", \"2019-08-19T20:49:48\", \"2019-08-19T19:57:24\", \"2019-08-19T19:55:10\", \"2019-08-19T19:41:41\", \"2019-08-19T19:39:28\", \"2019-08-19T19:32:50\", \"2019-08-19T19:25:05\", \"2019-08-19T19:15:09\", \"2019-08-19T18:34:24\", \"2019-08-19T18:34:16\", \"2019-08-19T18:25:52\", \"2019-08-19T18:18:12\", \"2019-08-19T18:15:07\", \"2019-08-19T18:08:12\", \"2019-08-19T17:54:49\", \"2019-08-19T17:43:33\", \"2019-08-19T17:38:17\", \"2019-08-19T17:35:44\", \"2019-08-19T17:11:28\", \"2019-08-19T17:06:26\", \"2019-08-19T17:00:20\", \"2019-08-19T16:44:14\", \"2019-08-19T16:43:39\", \"2019-08-19T16:32:27\", \"2019-08-19T16:27:01\", \"2019-08-19T16:22:32\", \"2019-08-19T16:22:17\", \"2019-08-19T16:16:12\", \"2019-08-19T16:15:09\", \"2019-08-19T16:12:52\", \"2019-08-19T16:12:23\", \"2019-08-19T16:09:00\", \"2019-08-19T15:52:03\", \"2019-08-19T15:46:59\", \"2019-08-19T15:40:21\", \"2019-08-19T15:26:17\", \"2019-08-19T15:24:44\", \"2019-08-19T15:23:28\", \"2019-08-19T15:17:57\", \"2019-08-19T15:16:48\", \"2019-08-19T15:09:42\", \"2019-08-19T14:58:38\", \"2019-08-19T14:53:21\", \"2019-08-19T14:38:42\", \"2019-08-19T14:21:00\", \"2019-08-19T14:18:34\", \"2019-08-19T14:12:26\", \"2019-08-19T13:53:37\", \"2019-08-19T12:11:14\", \"2019-08-19T12:00:01\", \"2019-08-19T11:41:22\", \"2019-08-19T11:40:36\", \"2019-08-19T11:00:01\", \"2019-08-19T10:35:54\", \"2019-08-19T10:16:30\", \"2019-08-19T09:03:41\", \"2019-08-19T07:54:03\", \"2019-08-19T07:02:35\", \"2019-08-19T06:19:11\", \"2019-08-19T06:09:27\", \"2019-08-19T06:06:59\", \"2019-08-19T05:03:21\", \"2019-08-19T05:03:05\", \"2019-08-19T03:55:35\", \"2019-08-19T01:58:23\", \"2019-08-19T01:53:31\", \"2019-08-19T01:48:26\", \"2019-08-19T01:45:51\", \"2019-08-19T01:13:07\", \"2019-08-19T00:31:08\", \"2019-08-19T00:17:22\", \"2019-08-18T23:22:21\", \"2019-08-18T23:01:54\", \"2019-08-18T22:54:33\", \"2019-08-18T21:00:04\", \"2019-08-18T20:51:24\", \"2019-08-18T20:25:35\", \"2019-08-18T19:44:01\", \"2019-08-18T19:44:00\", \"2019-08-18T19:09:04\", \"2019-08-18T19:00:05\", \"2019-08-18T18:21:12\", \"2019-08-18T18:15:13\", \"2019-08-18T18:15:07\", \"2019-08-18T18:06:13\", \"2019-08-18T18:00:09\", \"2019-08-18T17:59:10\", \"2019-08-18T17:56:21\", \"2019-08-18T17:17:51\", \"2019-08-18T17:12:10\", \"2019-08-18T17:10:25\", \"2019-08-18T17:03:21\", \"2019-08-18T17:01:03\", \"2019-08-18T17:01:01\", \"2019-08-18T16:43:44\", \"2019-08-18T16:37:03\", \"2019-08-18T16:36:39\", \"2019-08-18T16:15:07\", \"2019-08-18T16:02:12\", \"2019-08-18T15:52:10\", \"2019-08-18T15:38:14\", \"2019-08-18T15:09:45\", \"2019-08-18T14:29:27\", \"2019-08-18T14:29:18\", \"2019-08-18T14:14:19\", \"2019-08-18T14:11:49\", \"2019-08-18T13:57:39\", \"2019-08-18T13:24:20\", \"2019-08-18T12:22:54\", \"2019-08-18T12:05:02\", \"2019-08-18T12:00:24\", \"2019-08-18T11:41:30\", \"2019-08-18T11:25:13\", \"2019-08-18T11:25:12\", \"2019-08-18T11:25:12\", \"2019-08-18T10:34:30\", \"2019-08-18T09:37:18\", \"2019-08-18T09:33:28\", \"2019-08-18T07:37:13\", \"2019-08-18T06:33:47\", \"2019-08-18T06:21:12\", \"2019-08-18T05:04:38\", \"2019-08-18T05:00:51\", \"2019-08-18T03:42:11\", \"2019-08-18T03:16:30\", \"2019-08-18T02:19:28\", \"2019-08-18T01:46:59\", \"2019-08-18T01:12:38\", \"2019-08-17T23:50:18\", \"2019-08-17T23:42:23\", \"2019-08-17T22:52:00\", \"2019-08-17T21:12:06\", \"2019-08-17T21:00:04\", \"2019-08-17T20:49:02\", \"2019-08-17T20:43:54\", \"2019-08-17T20:28:26\", \"2019-08-17T20:14:29\", \"2019-08-17T19:34:52\", \"2019-08-17T19:24:38\", \"2019-08-17T19:00:11\", \"2019-08-17T18:38:19\", \"2019-08-17T18:37:04\", \"2019-08-17T18:35:02\", \"2019-08-17T18:15:08\", \"2019-08-17T18:02:53\", \"2019-08-17T17:57:56\", \"2019-08-17T17:44:08\", \"2019-08-17T17:32:34\", \"2019-08-17T17:04:59\", \"2019-08-17T17:03:41\", \"2019-08-17T17:00:18\", \"2019-08-17T16:58:30\", \"2019-08-17T16:47:00\", \"2019-08-17T16:37:49\", \"2019-08-17T16:37:23\", \"2019-08-17T16:16:15\", \"2019-08-17T16:12:05\", \"2019-08-17T15:51:38\", \"2019-08-17T15:46:16\", \"2019-08-17T15:34:20\", \"2019-08-17T15:30:03\", \"2019-08-17T15:12:05\", \"2019-08-17T15:10:51\", \"2019-08-17T15:00:23\", \"2019-08-17T14:58:34\", \"2019-08-17T14:30:54\", \"2019-08-17T14:15:07\", \"2019-08-17T14:12:23\", \"2019-08-17T13:16:31\", \"2019-08-17T13:06:25\", \"2019-08-17T13:01:45\", \"2019-08-17T12:56:46\", \"2019-08-17T12:25:46\", \"2019-08-17T12:04:54\", \"2019-08-17T10:12:17\", \"2019-08-17T10:09:07\", \"2019-08-17T09:59:45\", \"2019-08-17T09:33:00\", \"2019-08-17T09:30:57\", \"2019-08-17T08:34:19\", \"2019-08-17T08:22:42\", \"2019-08-17T07:57:47\", \"2019-08-17T06:12:14\", \"2019-08-17T06:11:53\", \"2019-08-17T06:11:17\", \"2019-08-17T06:11:16\", \"2019-08-17T06:01:01\", \"2019-08-17T05:34:13\", \"2019-08-17T05:19:49\", \"2019-08-17T03:30:56\", \"2019-08-17T03:23:31\", \"2019-08-17T02:11:48\", \"2019-08-17T02:00:03\", \"2019-08-17T01:22:07\", \"2019-08-17T00:58:05\", \"2019-08-17T00:09:37\", \"2019-08-17T00:05:07\", \"2019-08-17T00:04:42\", \"2019-08-16T23:51:12\", \"2019-08-16T23:01:49\", \"2019-08-16T22:05:42\", \"2019-08-16T22:05:01\", \"2019-08-16T21:55:36\", \"2019-08-16T21:44:07\", \"2019-08-16T21:23:45\", \"2019-08-16T21:00:08\", \"2019-08-16T20:52:31\", \"2019-08-16T20:35:02\", \"2019-08-16T20:25:59\", \"2019-08-16T20:10:49\", \"2019-08-16T20:00:08\", \"2019-08-16T19:48:30\", \"2019-08-16T19:27:45\", \"2019-08-16T19:12:09\", \"2019-08-16T19:11:48\", \"2019-08-16T19:03:49\", \"2019-08-16T18:58:21\", \"2019-08-16T18:47:23\", \"2019-08-16T18:46:06\", \"2019-08-16T18:34:12\", \"2019-08-16T18:08:03\", \"2019-08-16T18:05:23\", \"2019-08-16T17:55:54\", \"2019-08-16T17:48:06\", \"2019-08-16T17:00:17\", \"2019-08-16T16:55:16\", \"2019-08-16T16:34:36\", \"2019-08-16T16:32:38\", \"2019-08-16T16:15:12\", \"2019-08-16T15:34:40\", \"2019-08-16T15:26:33\", \"2019-08-16T15:25:53\", \"2019-08-16T15:10:29\", \"2019-08-16T15:00:22\", \"2019-08-16T14:59:08\", \"2019-08-16T14:15:12\", \"2019-08-16T14:03:18\", \"2019-08-16T13:24:25\", \"2019-08-16T13:23:48\", \"2019-08-16T13:16:54\", \"2019-08-16T13:14:23\", \"2019-08-16T11:55:51\", \"2019-08-16T11:55:07\", \"2019-08-16T10:25:08\", \"2019-08-16T10:18:27\", \"2019-08-16T09:17:12\", \"2019-08-16T08:30:17\", \"2019-08-16T08:05:16\", \"2019-08-16T08:03:55\", \"2019-08-16T08:01:30\", \"2019-08-16T07:48:00\", \"2019-08-16T07:30:08\", \"2019-08-16T06:40:17\", \"2019-08-16T05:51:06\", \"2019-08-16T05:35:06\", \"2019-08-16T05:27:20\", \"2019-08-16T04:43:15\", \"2019-08-16T04:17:25\", \"2019-08-16T04:12:21\", \"2019-08-16T03:38:04\", \"2019-08-16T03:10:24\", \"2019-08-16T02:33:51\", \"2019-08-16T02:28:17\", \"2019-08-16T02:10:35\", \"2019-08-16T02:00:04\", \"2019-08-16T01:52:37\", \"2019-08-16T01:46:47\", \"2019-08-16T01:39:01\", \"2019-08-16T01:30:11\", \"2019-08-15T23:53:45\", \"2019-08-15T23:46:25\", \"2019-08-15T23:13:34\", \"2019-08-15T23:00:11\", \"2019-08-15T22:47:27\", \"2019-08-15T22:23:43\", \"2019-08-15T21:44:22\", \"2019-08-15T21:19:57\", \"2019-08-15T21:15:12\", \"2019-08-15T21:00:09\", \"2019-08-15T20:19:44\", \"2019-08-15T20:08:11\", \"2019-08-15T20:02:17\", \"2019-08-15T19:29:58\", \"2019-08-15T19:00:18\", \"2019-08-15T18:53:47\", \"2019-08-15T18:18:56\", \"2019-08-15T18:17:16\", \"2019-08-15T18:15:13\", \"2019-08-15T18:07:46\", \"2019-08-15T18:01:48\", \"2019-08-15T17:52:59\", \"2019-08-15T17:50:17\", \"2019-08-15T17:49:07\", \"2019-08-15T17:46:13\", \"2019-08-15T17:34:31\", \"2019-08-15T17:28:59\", \"2019-08-15T17:12:20\", \"2019-08-15T17:08:09\", \"2019-08-15T17:02:03\", \"2019-08-15T17:01:07\", \"2019-08-15T17:00:24\", \"2019-08-15T16:53:47\", \"2019-08-15T16:49:01\", \"2019-08-15T16:18:15\", \"2019-08-15T16:15:13\", \"2019-08-15T16:01:27\", \"2019-08-15T15:56:00\", \"2019-08-15T15:43:56\", \"2019-08-15T15:01:00\", \"2019-08-15T15:00:17\", \"2019-08-15T14:42:54\", \"2019-08-15T14:20:28\", \"2019-08-15T14:17:52\", \"2019-08-15T13:57:03\", \"2019-08-15T13:57:02\", \"2019-08-15T13:49:41\", \"2019-08-15T13:45:32\", \"2019-08-15T13:44:25\", \"2019-08-15T13:37:12\", \"2019-08-15T13:28:45\", \"2019-08-15T12:42:46\", \"2019-08-15T11:03:20\", \"2019-08-15T09:59:29\", \"2019-08-15T09:59:06\", \"2019-08-15T09:20:36\", \"2019-08-15T09:17:42\", \"2019-08-15T08:59:34\", \"2019-08-15T07:04:33\", \"2019-08-15T07:03:15\", \"2019-08-15T06:52:19\", \"2019-08-15T06:31:15\", \"2019-08-15T06:30:41\", \"2019-08-15T06:30:27\", \"2019-08-15T06:29:53\", \"2019-08-15T06:29:27\", \"2019-08-15T06:28:27\", \"2019-08-15T06:27:57\", \"2019-08-15T06:27:17\", \"2019-08-15T06:26:47\", \"2019-08-15T06:26:03\", \"2019-08-15T06:21:38\", \"2019-08-15T06:21:05\", \"2019-08-15T06:20:38\", \"2019-08-15T04:25:18\", \"2019-08-15T04:00:01\", \"2019-08-15T03:59:07\", \"2019-08-15T02:12:49\", \"2019-08-15T02:07:37\", \"2019-08-15T02:00:04\", \"2019-08-15T01:52:58\", \"2019-08-15T01:47:22\", \"2019-08-15T00:42:53\", \"2019-08-15T00:05:33\", \"2019-08-14T23:14:11\", \"2019-08-14T23:13:20\", \"2019-08-14T23:12:55\", \"2019-08-14T23:02:35\", \"2019-08-14T23:00:06\", \"2019-08-14T22:34:23\", \"2019-08-14T22:11:12\", \"2019-08-14T22:07:30\", \"2019-08-14T21:54:54\", \"2019-08-14T21:41:03\", \"2019-08-14T21:00:08\", \"2019-08-14T20:49:52\", \"2019-08-14T20:42:58\", \"2019-08-14T20:25:42\", \"2019-08-14T20:22:35\", \"2019-08-14T20:19:01\", \"2019-08-14T20:15:11\", \"2019-08-14T19:13:44\", \"2019-08-14T18:53:05\", \"2019-08-14T18:37:19\", \"2019-08-14T18:36:47\", \"2019-08-14T18:36:43\", \"2019-08-14T18:26:49\", \"2019-08-14T18:24:54\", \"2019-08-14T18:21:47\", \"2019-08-14T18:20:16\", \"2019-08-14T18:18:41\", \"2019-08-14T17:54:53\", \"2019-08-14T17:52:50\", \"2019-08-14T17:45:14\", \"2019-08-14T17:44:30\", \"2019-08-14T17:17:33\", \"2019-08-14T17:00:20\", \"2019-08-14T15:53:13\", \"2019-08-14T15:47:51\", \"2019-08-14T15:33:50\", \"2019-08-14T15:31:57\", \"2019-08-14T15:11:39\", \"2019-08-14T15:00:20\", \"2019-08-14T14:20:22\", \"2019-08-14T14:15:11\", \"2019-08-14T13:59:05\", \"2019-08-14T13:55:48\", \"2019-08-14T13:18:45\", \"2019-08-14T12:58:26\", \"2019-08-14T12:27:35\", \"2019-08-14T12:01:21\", \"2019-08-14T11:38:44\", \"2019-08-14T11:34:58\", \"2019-08-14T11:26:01\", \"2019-08-14T11:24:26\", \"2019-08-14T11:20:55\", \"2019-08-14T11:20:37\", \"2019-08-14T10:56:51\", \"2019-08-14T10:56:17\", \"2019-08-14T10:44:53\", \"2019-08-14T10:24:14\", \"2019-08-14T09:07:23\", \"2019-08-14T08:30:57\", \"2019-08-14T08:17:24\", \"2019-08-14T07:34:59\", \"2019-08-14T07:05:47\", \"2019-08-14T07:04:10\", \"2019-08-14T07:00:45\", \"2019-08-14T06:19:43\", \"2019-08-14T06:13:49\", \"2019-08-14T05:54:41\", \"2019-08-14T05:45:02\", \"2019-08-14T05:15:32\", \"2019-08-14T05:02:52\", \"2019-08-14T04:40:41\", \"2019-08-14T04:11:21\", \"2019-08-14T03:15:10\", \"2019-08-14T03:01:55\", \"2019-08-14T02:09:27\", \"2019-08-14T02:00:03\", \"2019-08-14T01:56:07\", \"2019-08-14T01:40:30\", \"2019-08-14T01:19:53\", \"2019-08-14T01:06:25\", \"2019-08-14T01:03:37\", \"2019-08-14T00:57:33\", \"2019-08-14T00:25:22\", \"2019-08-14T00:02:35\", \"2019-08-13T23:54:24\", \"2019-08-13T22:25:51\", \"2019-08-13T22:17:48\", \"2019-08-13T22:17:14\", \"2019-08-13T22:14:52\"]}],\n",
       "                        {\"bargap\": 0.2, \"height\": 450, \"template\": {\"data\": {\"bar\": [{\"error_x\": {\"color\": \"#2a3f5f\"}, \"error_y\": {\"color\": \"#2a3f5f\"}, \"marker\": {\"line\": {\"color\": \"#E5ECF6\", \"width\": 0.5}}, \"type\": \"bar\"}], \"barpolar\": [{\"marker\": {\"line\": {\"color\": \"#E5ECF6\", \"width\": 0.5}}, \"type\": \"barpolar\"}], \"carpet\": [{\"aaxis\": {\"endlinecolor\": \"#2a3f5f\", \"gridcolor\": \"white\", \"linecolor\": \"white\", \"minorgridcolor\": \"white\", \"startlinecolor\": \"#2a3f5f\"}, \"baxis\": {\"endlinecolor\": \"#2a3f5f\", \"gridcolor\": \"white\", \"linecolor\": \"white\", \"minorgridcolor\": \"white\", \"startlinecolor\": \"#2a3f5f\"}, \"type\": \"carpet\"}], \"choropleth\": [{\"colorbar\": {\"outlinewidth\": 0, \"ticks\": \"\"}, \"type\": \"choropleth\"}], \"contour\": [{\"colorbar\": {\"outlinewidth\": 0, \"ticks\": \"\"}, \"colorscale\": [[0.0, \"#0d0887\"], [0.1111111111111111, \"#46039f\"], [0.2222222222222222, \"#7201a8\"], [0.3333333333333333, \"#9c179e\"], [0.4444444444444444, \"#bd3786\"], [0.5555555555555556, \"#d8576b\"], [0.6666666666666666, \"#ed7953\"], [0.7777777777777778, \"#fb9f3a\"], [0.8888888888888888, \"#fdca26\"], [1.0, \"#f0f921\"]], \"type\": \"contour\"}], \"contourcarpet\": [{\"colorbar\": {\"outlinewidth\": 0, \"ticks\": \"\"}, \"type\": \"contourcarpet\"}], \"heatmap\": [{\"colorbar\": {\"outlinewidth\": 0, \"ticks\": \"\"}, \"colorscale\": [[0.0, \"#0d0887\"], [0.1111111111111111, \"#46039f\"], [0.2222222222222222, \"#7201a8\"], [0.3333333333333333, \"#9c179e\"], [0.4444444444444444, \"#bd3786\"], [0.5555555555555556, \"#d8576b\"], [0.6666666666666666, \"#ed7953\"], [0.7777777777777778, \"#fb9f3a\"], [0.8888888888888888, \"#fdca26\"], [1.0, \"#f0f921\"]], \"type\": \"heatmap\"}], \"heatmapgl\": [{\"colorbar\": {\"outlinewidth\": 0, \"ticks\": \"\"}, \"colorscale\": [[0.0, \"#0d0887\"], [0.1111111111111111, \"#46039f\"], [0.2222222222222222, \"#7201a8\"], [0.3333333333333333, \"#9c179e\"], [0.4444444444444444, \"#bd3786\"], [0.5555555555555556, \"#d8576b\"], [0.6666666666666666, \"#ed7953\"], [0.7777777777777778, \"#fb9f3a\"], [0.8888888888888888, \"#fdca26\"], [1.0, \"#f0f921\"]], \"type\": \"heatmapgl\"}], \"histogram\": [{\"marker\": {\"colorbar\": {\"outlinewidth\": 0, \"ticks\": \"\"}}, \"type\": \"histogram\"}], \"histogram2d\": [{\"colorbar\": {\"outlinewidth\": 0, \"ticks\": \"\"}, \"colorscale\": [[0.0, \"#0d0887\"], [0.1111111111111111, \"#46039f\"], [0.2222222222222222, \"#7201a8\"], [0.3333333333333333, \"#9c179e\"], [0.4444444444444444, \"#bd3786\"], [0.5555555555555556, \"#d8576b\"], [0.6666666666666666, \"#ed7953\"], [0.7777777777777778, \"#fb9f3a\"], [0.8888888888888888, \"#fdca26\"], [1.0, \"#f0f921\"]], \"type\": \"histogram2d\"}], \"histogram2dcontour\": [{\"colorbar\": {\"outlinewidth\": 0, \"ticks\": \"\"}, \"colorscale\": [[0.0, \"#0d0887\"], [0.1111111111111111, \"#46039f\"], [0.2222222222222222, \"#7201a8\"], [0.3333333333333333, \"#9c179e\"], [0.4444444444444444, \"#bd3786\"], [0.5555555555555556, \"#d8576b\"], [0.6666666666666666, \"#ed7953\"], [0.7777777777777778, \"#fb9f3a\"], [0.8888888888888888, \"#fdca26\"], [1.0, \"#f0f921\"]], \"type\": \"histogram2dcontour\"}], \"mesh3d\": [{\"colorbar\": {\"outlinewidth\": 0, \"ticks\": \"\"}, \"type\": \"mesh3d\"}], \"parcoords\": [{\"line\": {\"colorbar\": {\"outlinewidth\": 0, \"ticks\": \"\"}}, \"type\": \"parcoords\"}], \"scatter\": [{\"marker\": {\"colorbar\": {\"outlinewidth\": 0, \"ticks\": \"\"}}, \"type\": \"scatter\"}], \"scatter3d\": [{\"line\": {\"colorbar\": {\"outlinewidth\": 0, \"ticks\": \"\"}}, \"marker\": {\"colorbar\": {\"outlinewidth\": 0, \"ticks\": \"\"}}, \"type\": \"scatter3d\"}], \"scattercarpet\": [{\"marker\": {\"colorbar\": {\"outlinewidth\": 0, \"ticks\": \"\"}}, \"type\": \"scattercarpet\"}], \"scattergeo\": [{\"marker\": {\"colorbar\": {\"outlinewidth\": 0, \"ticks\": \"\"}}, \"type\": \"scattergeo\"}], \"scattergl\": [{\"marker\": {\"colorbar\": {\"outlinewidth\": 0, \"ticks\": \"\"}}, \"type\": \"scattergl\"}], \"scattermapbox\": [{\"marker\": {\"colorbar\": {\"outlinewidth\": 0, \"ticks\": \"\"}}, \"type\": \"scattermapbox\"}], \"scatterpolar\": [{\"marker\": {\"colorbar\": {\"outlinewidth\": 0, \"ticks\": \"\"}}, \"type\": \"scatterpolar\"}], \"scatterpolargl\": [{\"marker\": {\"colorbar\": {\"outlinewidth\": 0, \"ticks\": \"\"}}, \"type\": \"scatterpolargl\"}], \"scatterternary\": [{\"marker\": {\"colorbar\": {\"outlinewidth\": 0, \"ticks\": \"\"}}, \"type\": \"scatterternary\"}], \"surface\": [{\"colorbar\": {\"outlinewidth\": 0, \"ticks\": \"\"}, \"colorscale\": [[0.0, \"#0d0887\"], [0.1111111111111111, \"#46039f\"], [0.2222222222222222, \"#7201a8\"], [0.3333333333333333, \"#9c179e\"], [0.4444444444444444, \"#bd3786\"], [0.5555555555555556, \"#d8576b\"], [0.6666666666666666, \"#ed7953\"], [0.7777777777777778, \"#fb9f3a\"], [0.8888888888888888, \"#fdca26\"], [1.0, \"#f0f921\"]], \"type\": \"surface\"}], \"table\": [{\"cells\": {\"fill\": {\"color\": \"#EBF0F8\"}, \"line\": {\"color\": \"white\"}}, \"header\": {\"fill\": {\"color\": \"#C8D4E3\"}, \"line\": {\"color\": \"white\"}}, \"type\": \"table\"}]}, \"layout\": {\"annotationdefaults\": {\"arrowcolor\": \"#2a3f5f\", \"arrowhead\": 0, \"arrowwidth\": 1}, \"colorscale\": {\"diverging\": [[0, \"#8e0152\"], [0.1, \"#c51b7d\"], [0.2, \"#de77ae\"], [0.3, \"#f1b6da\"], [0.4, \"#fde0ef\"], [0.5, \"#f7f7f7\"], [0.6, \"#e6f5d0\"], [0.7, \"#b8e186\"], [0.8, \"#7fbc41\"], [0.9, \"#4d9221\"], [1, \"#276419\"]], \"sequential\": [[0.0, \"#0d0887\"], [0.1111111111111111, \"#46039f\"], [0.2222222222222222, \"#7201a8\"], [0.3333333333333333, \"#9c179e\"], [0.4444444444444444, \"#bd3786\"], [0.5555555555555556, \"#d8576b\"], [0.6666666666666666, \"#ed7953\"], [0.7777777777777778, \"#fb9f3a\"], [0.8888888888888888, \"#fdca26\"], [1.0, \"#f0f921\"]], \"sequentialminus\": [[0.0, \"#0d0887\"], [0.1111111111111111, \"#46039f\"], [0.2222222222222222, \"#7201a8\"], [0.3333333333333333, \"#9c179e\"], [0.4444444444444444, \"#bd3786\"], [0.5555555555555556, \"#d8576b\"], [0.6666666666666666, \"#ed7953\"], [0.7777777777777778, \"#fb9f3a\"], [0.8888888888888888, \"#fdca26\"], [1.0, \"#f0f921\"]]}, \"colorway\": [\"#636efa\", \"#EF553B\", \"#00cc96\", \"#ab63fa\", \"#FFA15A\", \"#19d3f3\", \"#FF6692\", \"#B6E880\", \"#FF97FF\", \"#FECB52\"], \"font\": {\"color\": \"#2a3f5f\"}, \"geo\": {\"bgcolor\": \"white\", \"lakecolor\": \"white\", \"landcolor\": \"#E5ECF6\", \"showlakes\": true, \"showland\": true, \"subunitcolor\": \"white\"}, \"hoverlabel\": {\"align\": \"left\"}, \"hovermode\": \"closest\", \"mapbox\": {\"style\": \"light\"}, \"paper_bgcolor\": \"white\", \"plot_bgcolor\": \"#E5ECF6\", \"polar\": {\"angularaxis\": {\"gridcolor\": \"white\", \"linecolor\": \"white\", \"ticks\": \"\"}, \"bgcolor\": \"#E5ECF6\", \"radialaxis\": {\"gridcolor\": \"white\", \"linecolor\": \"white\", \"ticks\": \"\"}}, \"scene\": {\"xaxis\": {\"backgroundcolor\": \"#E5ECF6\", \"gridcolor\": \"white\", \"gridwidth\": 2, \"linecolor\": \"white\", \"showbackground\": true, \"ticks\": \"\", \"zerolinecolor\": \"white\"}, \"yaxis\": {\"backgroundcolor\": \"#E5ECF6\", \"gridcolor\": \"white\", \"gridwidth\": 2, \"linecolor\": \"white\", \"showbackground\": true, \"ticks\": \"\", \"zerolinecolor\": \"white\"}, \"zaxis\": {\"backgroundcolor\": \"#E5ECF6\", \"gridcolor\": \"white\", \"gridwidth\": 2, \"linecolor\": \"white\", \"showbackground\": true, \"ticks\": \"\", \"zerolinecolor\": \"white\"}}, \"shapedefaults\": {\"line\": {\"color\": \"#2a3f5f\"}}, \"ternary\": {\"aaxis\": {\"gridcolor\": \"white\", \"linecolor\": \"white\", \"ticks\": \"\"}, \"baxis\": {\"gridcolor\": \"white\", \"linecolor\": \"white\", \"ticks\": \"\"}, \"bgcolor\": \"#E5ECF6\", \"caxis\": {\"gridcolor\": \"white\", \"linecolor\": \"white\", \"ticks\": \"\"}}, \"title\": {\"x\": 0.05}, \"xaxis\": {\"automargin\": true, \"gridcolor\": \"white\", \"linecolor\": \"white\", \"ticks\": \"\", \"zerolinecolor\": \"white\", \"zerolinewidth\": 2}, \"yaxis\": {\"automargin\": true, \"gridcolor\": \"white\", \"linecolor\": \"white\", \"ticks\": \"\", \"zerolinecolor\": \"white\", \"zerolinewidth\": 2}}}, \"title\": {\"text\": \"Tweet Activity\"}, \"width\": 1000, \"xaxis\": {\"title\": {\"text\": \"Date\"}}, \"yaxis\": {\"title\": {\"text\": \"Tweet Quantity\"}}},\n",
       "                        {\"responsive\": true}\n",
       "                    ).then(function(){\n",
       "                            \n",
       "var gd = document.getElementById('6bf5de12-ba9b-46c4-b349-33bf87a3d043');\n",
       "var x = new MutationObserver(function (mutations, observer) {{\n",
       "        var display = window.getComputedStyle(gd).display;\n",
       "        if (!display || display === 'none') {{\n",
       "            console.log([gd, 'removed!']);\n",
       "            Plotly.purge(gd);\n",
       "            observer.disconnect();\n",
       "        }}\n",
       "}});\n",
       "\n",
       "// Listen for the removal of the full notebook cells\n",
       "var notebookContainer = gd.closest('#notebook-container');\n",
       "if (notebookContainer) {{\n",
       "    x.observe(notebookContainer, {childList: true});\n",
       "}}\n",
       "\n",
       "// Listen for the clearing of the current output cell\n",
       "var outputEl = gd.closest('.output');\n",
       "if (outputEl) {{\n",
       "    x.observe(outputEl, {childList: true});\n",
       "}}\n",
       "\n",
       "                        })\n",
       "                };\n",
       "                });\n",
       "            </script>\n",
       "        </div>"
      ]
     },
     "metadata": {},
     "output_type": "display_data"
    }
   ],
   "source": [
    "tweetsT = df_tweet['created_at'] \n",
    "\n",
    "trace = go.Histogram(\n",
    "    x = tweetsT,\n",
    "    marker = dict(\n",
    "        color = 'blue'\n",
    "    ),\n",
    "    opacity = 0.75\n",
    ")\n",
    "\n",
    "layout = go.Layout(\n",
    "    title = 'Tweet Activity',\n",
    "    height = 450,\n",
    "    width = 1000,\n",
    "    xaxis = dict(\n",
    "        title = 'Date'\n",
    "    ),\n",
    "    yaxis = dict(\n",
    "        title = 'Tweet Quantity'\n",
    "    ),\n",
    "    bargap = 0.2,\n",
    ")\n",
    "\n",
    "data = [trace]\n",
    "fig = go.Figure(data=data, layout=layout)\n",
    "py.offline.iplot(fig)"
   ]
  },
  {
   "cell_type": "markdown",
   "metadata": {},
   "source": [
    "# Step 3: Implement Encrpyted Dataset"
   ]
  },
  {
   "cell_type": "markdown",
   "metadata": {},
   "source": [
    "First, we create dictionaries to change for each character to index, and vice versa."
   ]
  },
  {
   "cell_type": "code",
   "execution_count": 41,
   "metadata": {},
   "outputs": [],
   "source": [
    "char2index = {}\n",
    "index2char = {}\n",
    "\n",
    "for i, char in enumerate(' ' + string.ascii_lowercase + '0123456789' + string.punctuation):\n",
    "    char2index[char] = i\n",
    "    index2char[i] = char"
   ]
  },
  {
   "cell_type": "markdown",
   "metadata": {},
   "source": [
    "Let's build some functions to implement encrpyted dataset."
   ]
  },
  {
   "cell_type": "code",
   "execution_count": 42,
   "metadata": {},
   "outputs": [],
   "source": [
    "def string2values(str_input, max_len=8):\n",
    "    \"\"\"Change string to value.\n",
    "    Args:\n",
    "        str_input(str): string input\n",
    "        max_len: maximum length of string\n",
    "    Returns:\n",
    "        tensor values\n",
    "    \"\"\"\n",
    "    str_input = str_input[:max_len].lower()\n",
    "    \n",
    "    # pad strings shorter than max len\n",
    "    if(len(str_input) < max_len):\n",
    "        str_input = str_input + \".\" * (max_len - len(str_input))\n",
    "    \n",
    "    values = list()\n",
    "    for char in str_input:\n",
    "        values.append(char2index[char])\n",
    "        \n",
    "    return th.tensor(values).long()\n",
    "\n",
    "def values2string(input_values):\n",
    "    \"\"\"Change value to string.\n",
    "    Args:\n",
    "        input_values: values input\n",
    "    Returns:\n",
    "        string\n",
    "    \"\"\"\n",
    "    s = \"\"\n",
    "    for value in input_values:\n",
    "        s += index2char[int(value)]\n",
    "    return s\n",
    "\n",
    "def one_hot(index, length):\n",
    "    \"\"\"Make one hot for each counted string on the index.\n",
    "    Args:\n",
    "        index\n",
    "    Returns:\n",
    "        one hot vector\n",
    "    \"\"\"\n",
    "    vect = th.zeros(length).long()\n",
    "    vect[index] = 1\n",
    "    return vect\n",
    "\n",
    "def string2one_hot_matrix(str_input, max_len=8):\n",
    "    \"\"\"Change string into one hot matrix\n",
    "    Args:\n",
    "        str_input(str): string input\n",
    "        max_len: maximum length of string\n",
    "    Returns:\n",
    "        one hot matrix\n",
    "    \"\"\"\n",
    "    str_input = str_input[:max_len].lower()\n",
    "    # pad strings shorter than max len\n",
    "    if(len(str_input) < max_len):\n",
    "        str_input = str_input + \".\" * (max_len - len(str_input))\n",
    "\n",
    "    char_vectors = list()\n",
    "    for char in str_input:\n",
    "        char_v = one_hot(char2index[char], len(char2index)).unsqueeze(0)\n",
    "        char_vectors.append(char_v)\n",
    "        \n",
    "    return th.cat(char_vectors, dim=0)\n",
    "\n",
    "def strings_equal(str_a, str_b):\n",
    "    \"\"\"Comparing two string inputs\n",
    "    Args:\n",
    "        str_a(str): string input a\n",
    "        str_b(str): string input b\n",
    "    Returns:\n",
    "        tensor comparison result\n",
    "    \"\"\"\n",
    "    vect = (str_a * str_b).sum(1) # show overlapping\n",
    "\n",
    "    x = vect[0]\n",
    "\n",
    "    for i in range(vect.shape[0] - 1):\n",
    "        x = x * vect[i+1]\n",
    "\n",
    "    return x"
   ]
  },
  {
   "cell_type": "markdown",
   "metadata": {},
   "source": [
    "Now, we will make class <code>EncrpytedDataset</code> to encrypt Twitter dataset."
   ]
  },
  {
   "cell_type": "code",
   "execution_count": 46,
   "metadata": {},
   "outputs": [],
   "source": [
    "class EncryptedDataset():\n",
    "    \n",
    "    def __init__(self, *owners, max_key_len=8, max_val_len=8):\n",
    "        self.max_key_len = max_key_len\n",
    "        self.max_val_len = max_val_len\n",
    "        \n",
    "        self.keys = list()\n",
    "        self.values = list()\n",
    "        self.owners = owners\n",
    "        \n",
    "    def add_entry(self, key, value):\n",
    "        key = string2one_hot_matrix(key)\n",
    "        key = key.share(*self.owners)\n",
    "        self.keys.append(key)\n",
    "        \n",
    "        value = string2values(value, max_len=self.max_val_len)\n",
    "        value = value.share(*self.owners)\n",
    "        self.values.append(value)\n",
    "        \n",
    "    def query(self, query_str):\n",
    "        query_matrix = string2one_hot_matrix(query_str)\n",
    "        \n",
    "        query_matrix = query_matrix.share(*self.owners)\n",
    "\n",
    "        key_matches = list()\n",
    "        for key in self.keys:\n",
    "\n",
    "            key_match = strings_equal(key, query_matrix)\n",
    "            key_matches.append(key_match)\n",
    "\n",
    "        result = self.values[0] * key_matches[0]\n",
    "\n",
    "        for i in range(len(self.values) - 1):\n",
    "            result += self.values[i+1] * key_matches[i+1]\n",
    "            \n",
    "        result = result.get()\n",
    "\n",
    "        return values2string(result).replace(\".\",\"\")"
   ]
  },
  {
   "cell_type": "markdown",
   "metadata": {},
   "source": [
    "## Make workers"
   ]
  },
  {
   "cell_type": "code",
   "execution_count": 44,
   "metadata": {},
   "outputs": [
    {
     "name": "stderr",
     "output_type": "stream",
     "text": [
      "W0820 22:11:36.020632  2788 hook.py:98] Torch was already hooked... skipping hooking process\n"
     ]
    }
   ],
   "source": [
    "import syft as sy\n",
    "import torch as th\n",
    "hook = sy.TorchHook(th)"
   ]
  },
  {
   "cell_type": "code",
   "execution_count": 63,
   "metadata": {},
   "outputs": [
    {
     "name": "stderr",
     "output_type": "stream",
     "text": [
      "W0820 22:34:05.893684  2788 base.py:628] Worker me already exists. Replacing old worker which could cause                     unexpected behavior\n",
      "W0820 22:34:05.894680  2788 base.py:628] Worker me already exists. Replacing old worker which could cause                     unexpected behavior\n",
      "W0820 22:34:05.895643  2788 base.py:628] Worker me already exists. Replacing old worker which could cause                     unexpected behavior\n"
     ]
    }
   ],
   "source": [
    "bob = sy.VirtualWorker(hook, id=\"bob\").add_worker(sy.local_worker)\n",
    "alice = sy.VirtualWorker(hook, id=\"alice\").add_worker(sy.local_worker)\n",
    "secure_worker = sy.VirtualWorker(hook, id=\"secure_worker\").add_worker(sy.local_worker)\n",
    "\n",
    "# clearing objects\n",
    "bob = bob.clear_objects()\n",
    "alice = alice.clear_objects()\n",
    "secure_worker = secure_worker.clear_objects()"
   ]
  },
  {
   "cell_type": "markdown",
   "metadata": {},
   "source": [
    "## Cleaning Dataset"
   ]
  },
  {
   "cell_type": "code",
   "execution_count": 49,
   "metadata": {},
   "outputs": [
    {
     "name": "stderr",
     "output_type": "stream",
     "text": [
      "[nltk_data] Downloading package stopwords to C:\\Users\\Yasir Abdur\n",
      "[nltk_data]     Rohman\\AppData\\Roaming\\nltk_data...\n",
      "[nltk_data]   Package stopwords is already up-to-date!\n"
     ]
    }
   ],
   "source": [
    "import nltk\n",
    "nltk.download('stopwords')\n",
    "from nltk.corpus import stopwords\n",
    "from string import punctuation\n",
    "import string\n",
    "from unicodedata import normalize\n",
    "import re\n",
    "\n",
    "def remove_url(tweet):\n",
    "    \"\"\"Remove URL link.\n",
    "    Args:\n",
    "        tweet(str): tweet\n",
    "    Returns:\n",
    "        modified tweet\n",
    "    \"\"\"\n",
    "    tweet = re.sub(r\"\\s—\\s\", \"\", tweet)\n",
    "    tweet = re.sub(r\"http\\S+\", \"\", tweet)\n",
    "    return tweet\n",
    "\n",
    "def remove_hashtag_mention(tweet):\n",
    "    \"\"\"Remove hastag and mention.\n",
    "    Args:\n",
    "        tweet(str): tweet\n",
    "    Returns:\n",
    "        modified tweet\n",
    "    \"\"\"\n",
    "    result = []\n",
    "    tweet = tweet.split(' ')\n",
    "    for t in tweet:\n",
    "        if t.startswith('#') or t.startswith('@'):\n",
    "            continue\n",
    "        else:\n",
    "            result.append(t)\n",
    "    return ' '.join(result)\n",
    "\n",
    "def remove_rt_fav(tweet):\n",
    "    \"\"\"Remove RT and FAV.\n",
    "    Args:\n",
    "        tweet(str): tweet\n",
    "    Returns:\n",
    "        modified tweet\n",
    "    \"\"\"\n",
    "    tweet = re.sub(r'^(RT|FAV)','', tweet)\n",
    "    return tweet\n",
    "\n",
    "def remove_punctuation(tweet):\n",
    "    \"\"\"Remove punctuation except '-'.\n",
    "    Args:\n",
    "        tweet(str): tweet\n",
    "    Returns:\n",
    "        modified tweet\n",
    "    \"\"\"\n",
    "    remove = string.punctuation\n",
    "    translator = str.maketrans(remove, ' '*len(remove))\n",
    "    return tweet.translate(translator)\n",
    "    \n",
    "def remove_ascii_unicode(tweet):\n",
    "    \"\"\"Remove ASCII and Unicode.\n",
    "    Args:\n",
    "        tweet(str): tweet\n",
    "    Returns:\n",
    "        modified tweet\n",
    "    \"\"\"\n",
    "    tweet = normalize('NFKD', tweet)\n",
    "    tweet = tweet.encode('ascii', 'ignore').decode('utf-8')\n",
    "    return tweet\n",
    "\n",
    "def remove_newline(tweet):\n",
    "    \"\"\"Remove newline.\n",
    "    Args:\n",
    "        tweet(str): tweet\n",
    "    Returns:\n",
    "        modified tweet\n",
    "    \"\"\"\n",
    "    tweet = tweet.replace('\\n', ' ')\n",
    "    return tweet"
   ]
  },
  {
   "cell_type": "code",
   "execution_count": 50,
   "metadata": {},
   "outputs": [],
   "source": [
    "# cleaning tweet documents\n",
    "\n",
    "for index, row in df_tweet.iterrows():\n",
    "    clean_tweet = remove_ascii_unicode(row['text'])\n",
    "    clean_tweet = clean_tweet.lower()\n",
    "    clean_tweet = remove_rt_fav(clean_tweet)\n",
    "    clean_tweet = remove_newline(clean_tweet)\n",
    "    clean_tweet = remove_url(clean_tweet)\n",
    "    clean_tweet = remove_hashtag_mention(clean_tweet)\n",
    "    clean_tweet = remove_punctuation(clean_tweet)\n",
    "    \n",
    "    # update dataframe\n",
    "    df_tweet.at[index,'text'] = clean_tweet"
   ]
  },
  {
   "cell_type": "code",
   "execution_count": 52,
   "metadata": {},
   "outputs": [
    {
     "data": {
      "text/plain": [
       "0    udacity aws deepracer scholarship challenge fo...\n",
       "1    a new udacity green it training course has bee...\n",
       "2    back to school isnt just for kids  20 courses ...\n",
       "3    belajar tensorflow yang di udacity bagus gak pak \n",
       "4                                    congratulations  \n",
       "5              please reach out at support udacity com\n",
       "6                                                     \n",
       "7    udacity aws deepracer scholarship challenge fo...\n",
       "8                     networking for web developers   \n",
       "9                                                     \n",
       "Name: text, dtype: object"
      ]
     },
     "execution_count": 52,
     "metadata": {},
     "output_type": "execute_result"
    }
   ],
   "source": [
    "# take a look at the results\n",
    "df_tweet['text'].head(10)"
   ]
  },
  {
   "cell_type": "markdown",
   "metadata": {},
   "source": [
    "## Encrpyt the dataset"
   ]
  },
  {
   "cell_type": "code",
   "execution_count": 66,
   "metadata": {},
   "outputs": [],
   "source": [
    "# initialize class EncrpytedDataset\n",
    "db = EncryptedDataset(bob, alice, secure_worker, max_val_len=280)\n",
    "\n",
    "# add Twitter dataset into db\n",
    "for index, row in df_tweet.iterrows():\n",
    "    # we can make the key combining index and username\n",
    "    key = str(index) + '@' + row['username']\n",
    "    values = row['text']\n",
    "    \n",
    "    db.add_entry(key, values)"
   ]
  },
  {
   "cell_type": "code",
   "execution_count": 67,
   "metadata": {},
   "outputs": [
    {
     "data": {
      "text/plain": [
       "'udacity aws deepracer scholarship challenge for international students '"
      ]
     },
     "execution_count": 67,
     "metadata": {},
     "output_type": "execute_result"
    }
   ],
   "source": [
    "# let's testing out our database\n",
    "db.query(\"0@JustNowBulletin\")"
   ]
  },
  {
   "cell_type": "code",
   "execution_count": 68,
   "metadata": {},
   "outputs": [
    {
     "data": {
      "text/html": [
       "<div>\n",
       "<style scoped>\n",
       "    .dataframe tbody tr th:only-of-type {\n",
       "        vertical-align: middle;\n",
       "    }\n",
       "\n",
       "    .dataframe tbody tr th {\n",
       "        vertical-align: top;\n",
       "    }\n",
       "\n",
       "    .dataframe thead th {\n",
       "        text-align: right;\n",
       "    }\n",
       "</style>\n",
       "<table border=\"1\" class=\"dataframe\">\n",
       "  <thead>\n",
       "    <tr style=\"text-align: right;\">\n",
       "      <th></th>\n",
       "      <th>username</th>\n",
       "      <th>created_at</th>\n",
       "      <th>text</th>\n",
       "    </tr>\n",
       "  </thead>\n",
       "  <tbody>\n",
       "    <tr>\n",
       "      <th>0</th>\n",
       "      <td>JustNowBulletin</td>\n",
       "      <td>2019-08-20 14:20:11</td>\n",
       "      <td>udacity aws deepracer scholarship challenge fo...</td>\n",
       "    </tr>\n",
       "  </tbody>\n",
       "</table>\n",
       "</div>"
      ],
      "text/plain": [
       "          username          created_at  \\\n",
       "0  JustNowBulletin 2019-08-20 14:20:11   \n",
       "\n",
       "                                                text  \n",
       "0  udacity aws deepracer scholarship challenge fo...  "
      ]
     },
     "execution_count": 68,
     "metadata": {},
     "output_type": "execute_result"
    }
   ],
   "source": [
    "# we get the same result\n",
    "df_tweet.head(1)"
   ]
  },
  {
   "cell_type": "markdown",
   "metadata": {},
   "source": [
    "# Step 4: Topic Modelling\n",
    "Now, we will implementing Topic Modelling from our Encrpyted Dataset."
   ]
  },
  {
   "cell_type": "code",
   "execution_count": 72,
   "metadata": {},
   "outputs": [
    {
     "data": {
      "text/plain": [
       "493"
      ]
     },
     "execution_count": 72,
     "metadata": {},
     "output_type": "execute_result"
    }
   ],
   "source": [
    "# make list of keys\n",
    "keys = list()\n",
    "\n",
    "for index, row in df_tweet.iterrows():\n",
    "    key = str(index) + '@' + row['username']\n",
    "    keys.append(key)\n",
    "\n",
    "len(keys)"
   ]
  },
  {
   "cell_type": "markdown",
   "metadata": {},
   "source": [
    "## Make a corpus\n",
    "We will make corpus from Twitter Encrypted Dataset."
   ]
  },
  {
   "cell_type": "code",
   "execution_count": 77,
   "metadata": {},
   "outputs": [],
   "source": [
    "corpus = list()\n",
    "a = list()\n",
    "\n",
    "# for i in range(len(df_tweet['text'])):\n",
    "#     a = df_tweet['text'][i]\n",
    "#     corpus.append(a)\n",
    "\n",
    "for key in keys:\n",
    "    a = db.query(key)\n",
    "    corpus.append(a)"
   ]
  },
  {
   "cell_type": "code",
   "execution_count": 79,
   "metadata": {},
   "outputs": [
    {
     "data": {
      "text/plain": [
       "['udacity aws deepracer scholarship challenge for international students ',\n",
       " 'a new udacity green it training course has been added to sustaintraina   data engineer     ',\n",
       " 'back to school isnt just for kids  20 courses to update your skills from and   ',\n",
       " 'belajar tensorflow yang di udacity bagus gak pak ',\n",
       " 'congratulations  ']"
      ]
     },
     "execution_count": 79,
     "metadata": {},
     "output_type": "execute_result"
    }
   ],
   "source": [
    "# let's see our corpus\n",
    "corpus[0:5]"
   ]
  },
  {
   "cell_type": "markdown",
   "metadata": {},
   "source": [
    "## Make temporary folder for saving dictionary and corpus"
   ]
  },
  {
   "cell_type": "code",
   "execution_count": 80,
   "metadata": {},
   "outputs": [
    {
     "name": "stdout",
     "output_type": "stream",
     "text": [
      "Folder \"C:\\Users\\YASIRA~1\\AppData\\Local\\Temp\" will be used to save temporary dictionary and corpus.\n"
     ]
    }
   ],
   "source": [
    "import gensim\n",
    "import logging\n",
    "import tempfile\n",
    "\n",
    "TEMP_FOLDER = tempfile.gettempdir()\n",
    "print('Folder \"{}\" will be used to save temporary dictionary and corpus.'.format(TEMP_FOLDER))\n",
    "\n",
    "from gensim import corpora\n",
    "logging.basicConfig(format='%(asctime)s : %(levelname)s : %(message)s', level=logging.INFO)"
   ]
  },
  {
   "cell_type": "markdown",
   "metadata": {},
   "source": [
    "## Remove common words and tokenize"
   ]
  },
  {
   "cell_type": "code",
   "execution_count": 81,
   "metadata": {},
   "outputs": [],
   "source": [
    "# remove common words and tokenize\n",
    "common_words = ['RT','rt', 'udacity']\n",
    "stoplist = stopwords.words('english') + list(punctuation) + common_words\n",
    "\n",
    "texts = [[word for word in str(document).lower().split() if word not in stoplist] for document in corpus]"
   ]
  },
  {
   "cell_type": "markdown",
   "metadata": {},
   "source": [
    "## Convert corpus documents into a stream of vectors"
   ]
  },
  {
   "cell_type": "code",
   "execution_count": 82,
   "metadata": {},
   "outputs": [],
   "source": [
    "dictionary = corpora.Dictionary(texts)\n",
    "dictionary.save(os.path.join(TEMP_FOLDER, 'tweet_documents.dict'))  # store the dictionary, for future reference\n",
    "# print(dictionary)\n",
    "\n",
    "corpus = [dictionary.doc2bow(text) for text in texts]\n",
    "corpora.MmCorpus.serialize(os.path.join(TEMP_FOLDER, 'tweet_documents.mm'), corpus)  # store to disk, for later use"
   ]
  },
  {
   "cell_type": "markdown",
   "metadata": {},
   "source": [
    "## Transformation using Tfidf\n",
    "TFIDF, short for term frequency–inverse document frequency, is a numerical statistic that is intended to reflect how important a word is to a document in a collection or corpus."
   ]
  },
  {
   "cell_type": "code",
   "execution_count": 83,
   "metadata": {},
   "outputs": [],
   "source": [
    "# initialize\n",
    "tfidf = models.TfidfModel(corpus)"
   ]
  },
  {
   "cell_type": "code",
   "execution_count": 84,
   "metadata": {},
   "outputs": [],
   "source": [
    "# use the model to transform vectors\n",
    "corpus_tfidf = tfidf[corpus]"
   ]
  },
  {
   "cell_type": "markdown",
   "metadata": {},
   "source": [
    "## Implement LDA\n",
    "Latent Dirichlet allocation (LDA) is a generative statistical model that allows sets of observations to be explained by unobserved groups that explain why some parts of the data are similar. For example, if observations are words collected into documents, it posits that each document is a mixture of a small number of topics and that each word's presence is attributable to one of the document's topics. LDA is an example of a topic model."
   ]
  },
  {
   "cell_type": "code",
   "execution_count": 85,
   "metadata": {},
   "outputs": [
    {
     "name": "stderr",
     "output_type": "stream",
     "text": [
      "W0820 23:36:28.732566  2788 ldamodel.py:934] too few updates, training might not converge; consider increasing the number of passes or iterations to improve accuracy\n"
     ]
    }
   ],
   "source": [
    "num_of_topics = 4\n",
    "\n",
    "lda = models.LdaModel(corpus, id2word=dictionary, num_topics=num_of_topics)\n",
    "corpus_lda = lda[corpus_tfidf]"
   ]
  },
  {
   "cell_type": "code",
   "execution_count": 89,
   "metadata": {},
   "outputs": [
    {
     "data": {
      "text/plain": [
       "[(0,\n",
       "  '0.014*\"course\" + 0.012*\"amp\" + 0.010*\"new\" + 0.007*\"training\" + 0.006*\"congratulations\"'),\n",
       " (1,\n",
       "  '0.013*\"learning\" + 0.011*\"nanodegree\" + 0.010*\"day\" + 0.009*\"android\" + 0.008*\"data\"'),\n",
       " (2,\n",
       "  '0.007*\"nanodegree\" + 0.007*\"thanks\" + 0.007*\"learning\" + 0.006*\"project\" + 0.006*\"amp\"'),\n",
       " (3,\n",
       "  '0.018*\"course\" + 0.017*\"learning\" + 0.015*\"day\" + 0.010*\"nanodegree\" + 0.009*\"machine\"')]"
      ]
     },
     "execution_count": 89,
     "metadata": {},
     "output_type": "execute_result"
    }
   ],
   "source": [
    "# Show first n important word in the topics\n",
    "lda.show_topics(num_of_topics, 5)"
   ]
  },
  {
   "cell_type": "code",
   "execution_count": 90,
   "metadata": {},
   "outputs": [
    {
     "name": "stdout",
     "output_type": "stream",
     "text": [
      "(71, 4)\n",
      "(4, 71)\n"
     ]
    },
    {
     "data": {
      "text/html": [
       "<div>\n",
       "<style scoped>\n",
       "    .dataframe tbody tr th:only-of-type {\n",
       "        vertical-align: middle;\n",
       "    }\n",
       "\n",
       "    .dataframe tbody tr th {\n",
       "        vertical-align: top;\n",
       "    }\n",
       "\n",
       "    .dataframe thead th {\n",
       "        text-align: right;\n",
       "    }\n",
       "</style>\n",
       "<table border=\"1\" class=\"dataframe\">\n",
       "  <thead>\n",
       "    <tr style=\"text-align: right;\">\n",
       "      <th></th>\n",
       "      <th>1</th>\n",
       "      <th>2</th>\n",
       "      <th>3</th>\n",
       "      <th>able</th>\n",
       "      <th>added</th>\n",
       "      <th>ai</th>\n",
       "      <th>also</th>\n",
       "      <th>amp</th>\n",
       "      <th>android</th>\n",
       "      <th>become</th>\n",
       "      <th>...</th>\n",
       "      <th>time</th>\n",
       "      <th>training</th>\n",
       "      <th>two</th>\n",
       "      <th>u</th>\n",
       "      <th>udemy</th>\n",
       "      <th>ur</th>\n",
       "      <th>via</th>\n",
       "      <th>voyage</th>\n",
       "      <th>web</th>\n",
       "      <th>work</th>\n",
       "    </tr>\n",
       "  </thead>\n",
       "  <tbody>\n",
       "    <tr>\n",
       "      <th>0</th>\n",
       "      <td>0.000000</td>\n",
       "      <td>0.000000</td>\n",
       "      <td>0.000000</td>\n",
       "      <td>0.003533</td>\n",
       "      <td>0.005734</td>\n",
       "      <td>0.003379</td>\n",
       "      <td>0.000000</td>\n",
       "      <td>0.011932</td>\n",
       "      <td>0.000000</td>\n",
       "      <td>0.000000</td>\n",
       "      <td>...</td>\n",
       "      <td>0.000000</td>\n",
       "      <td>0.00663</td>\n",
       "      <td>0.00338</td>\n",
       "      <td>0.000000</td>\n",
       "      <td>0.000000</td>\n",
       "      <td>0.000000</td>\n",
       "      <td>0.000000</td>\n",
       "      <td>0.004506</td>\n",
       "      <td>0.000000</td>\n",
       "      <td>0.000000</td>\n",
       "    </tr>\n",
       "    <tr>\n",
       "      <th>1</th>\n",
       "      <td>0.000000</td>\n",
       "      <td>0.000000</td>\n",
       "      <td>0.000000</td>\n",
       "      <td>0.000000</td>\n",
       "      <td>0.000000</td>\n",
       "      <td>0.000000</td>\n",
       "      <td>0.000000</td>\n",
       "      <td>0.003571</td>\n",
       "      <td>0.008878</td>\n",
       "      <td>0.003672</td>\n",
       "      <td>...</td>\n",
       "      <td>0.000000</td>\n",
       "      <td>0.00000</td>\n",
       "      <td>0.00000</td>\n",
       "      <td>0.000000</td>\n",
       "      <td>0.000000</td>\n",
       "      <td>0.000000</td>\n",
       "      <td>0.000000</td>\n",
       "      <td>0.000000</td>\n",
       "      <td>0.000000</td>\n",
       "      <td>0.003455</td>\n",
       "    </tr>\n",
       "    <tr>\n",
       "      <th>2</th>\n",
       "      <td>0.000000</td>\n",
       "      <td>0.000000</td>\n",
       "      <td>0.000000</td>\n",
       "      <td>0.000000</td>\n",
       "      <td>0.000000</td>\n",
       "      <td>0.000000</td>\n",
       "      <td>0.003593</td>\n",
       "      <td>0.005869</td>\n",
       "      <td>0.000000</td>\n",
       "      <td>0.000000</td>\n",
       "      <td>...</td>\n",
       "      <td>0.003756</td>\n",
       "      <td>0.00000</td>\n",
       "      <td>0.00000</td>\n",
       "      <td>0.003702</td>\n",
       "      <td>0.005444</td>\n",
       "      <td>0.003332</td>\n",
       "      <td>0.000000</td>\n",
       "      <td>0.000000</td>\n",
       "      <td>0.000000</td>\n",
       "      <td>0.000000</td>\n",
       "    </tr>\n",
       "    <tr>\n",
       "      <th>3</th>\n",
       "      <td>0.007639</td>\n",
       "      <td>0.009043</td>\n",
       "      <td>0.008026</td>\n",
       "      <td>0.000000</td>\n",
       "      <td>0.000000</td>\n",
       "      <td>0.004154</td>\n",
       "      <td>0.000000</td>\n",
       "      <td>0.000000</td>\n",
       "      <td>0.000000</td>\n",
       "      <td>0.000000</td>\n",
       "      <td>...</td>\n",
       "      <td>0.000000</td>\n",
       "      <td>0.00000</td>\n",
       "      <td>0.00000</td>\n",
       "      <td>0.000000</td>\n",
       "      <td>0.000000</td>\n",
       "      <td>0.000000</td>\n",
       "      <td>0.003851</td>\n",
       "      <td>0.000000</td>\n",
       "      <td>0.003543</td>\n",
       "      <td>0.000000</td>\n",
       "    </tr>\n",
       "  </tbody>\n",
       "</table>\n",
       "<p>4 rows × 71 columns</p>\n",
       "</div>"
      ],
      "text/plain": [
       "          1         2         3      able     added        ai      also  \\\n",
       "0  0.000000  0.000000  0.000000  0.003533  0.005734  0.003379  0.000000   \n",
       "1  0.000000  0.000000  0.000000  0.000000  0.000000  0.000000  0.000000   \n",
       "2  0.000000  0.000000  0.000000  0.000000  0.000000  0.000000  0.003593   \n",
       "3  0.007639  0.009043  0.008026  0.000000  0.000000  0.004154  0.000000   \n",
       "\n",
       "        amp   android    become  ...      time  training      two         u  \\\n",
       "0  0.011932  0.000000  0.000000  ...  0.000000   0.00663  0.00338  0.000000   \n",
       "1  0.003571  0.008878  0.003672  ...  0.000000   0.00000  0.00000  0.000000   \n",
       "2  0.005869  0.000000  0.000000  ...  0.003756   0.00000  0.00000  0.003702   \n",
       "3  0.000000  0.000000  0.000000  ...  0.000000   0.00000  0.00000  0.000000   \n",
       "\n",
       "      udemy        ur       via    voyage       web      work  \n",
       "0  0.000000  0.000000  0.000000  0.004506  0.000000  0.000000  \n",
       "1  0.000000  0.000000  0.000000  0.000000  0.000000  0.003455  \n",
       "2  0.005444  0.003332  0.000000  0.000000  0.000000  0.000000  \n",
       "3  0.000000  0.000000  0.003851  0.000000  0.003543  0.000000  \n",
       "\n",
       "[4 rows x 71 columns]"
      ]
     },
     "execution_count": 90,
     "metadata": {},
     "output_type": "execute_result"
    }
   ],
   "source": [
    "# Show probability for each word in each topic\n",
    "from collections import OrderedDict\n",
    "\n",
    "data_lda = {i: OrderedDict(lda.show_topic(i, 25)) for i in range(num_of_topics)}\n",
    "\n",
    "df_lda = pd.DataFrame(data_lda)\n",
    "print(df_lda.shape)\n",
    "df_lda = df_lda.fillna(0).T\n",
    "print(df_lda.shape)\n",
    "\n",
    "df_lda.head()"
   ]
  },
  {
   "cell_type": "markdown",
   "metadata": {},
   "source": [
    "## Visualizing Clustermap LDA"
   ]
  },
  {
   "cell_type": "code",
   "execution_count": 91,
   "metadata": {},
   "outputs": [
    {
     "data": {
      "image/png": "[encoded data removed]",
      "text/plain": [
       "<Figure size 864x864 with 4 Axes>"
      ]
     },
     "metadata": {
      "needs_background": "light"
     },
     "output_type": "display_data"
    }
   ],
   "source": [
    "import seaborn as sns\n",
    "import matplotlib.pyplot as plt\n",
    "%matplotlib inline\n",
    "\n",
    "g = sns.clustermap(df_lda.corr(), center=0, cmap=\"RdBu\", metric='cosine', linewidths=.75, figsize=(12, 12))\n",
    "plt.setp(g.ax_heatmap.yaxis.get_majorticklabels(), rotation=0)\n",
    "plt.show()"
   ]
  },
  {
   "cell_type": "markdown",
   "metadata": {},
   "source": [
    "## Visualizing with PyLDAvis"
   ]
  },
  {
   "cell_type": "code",
   "execution_count": 92,
   "metadata": {},
   "outputs": [
    {
     "data": {
      "text/html": [
       "\n",
       "<link rel=\"stylesheet\" type=\"text/css\" href=\"https://cdn.rawgit.com/bmabey/pyLDAvis/files/ldavis.v1.0.0.css\">\n",
       "\n",
       "\n",
       "<div id=\"ldavis_el2134423345656732646669331921\"></div>\n",
       "<script type=\"text/javascript\">\n",
       "\n",
       "var ldavis_el2134423345656732646669331921_data = {\"mdsDat\": {\"x\": [717.0982055664062, -497.5953063964844, 91.6961898803711, 127.80706024169922], \"y\": [-274.7879333496094, -238.65899658203125, -863.7670288085938, 350.3245544433594], \"topics\": [1, 2, 3, 4], \"cluster\": [1, 1, 1, 1], \"Freq\": [61.212318420410156, 12.996776580810547, 12.954168319702148, 12.836736679077148]}, \"tinfo\": {\"Category\": [\"Default\", \"Default\", \"Default\", \"Default\", \"Default\", \"Default\", \"Default\", \"Default\", \"Default\", \"Default\", \"Default\", \"Default\", \"Default\", \"Default\", \"Default\", \"Default\", \"Default\", \"Default\", \"Default\", \"Default\", \"Default\", \"Default\", \"Default\", \"Default\", \"Default\", \"Default\", \"Default\", \"Default\", \"Default\", \"Default\", \"Topic1\", \"Topic1\", \"Topic1\", \"Topic1\", \"Topic1\", \"Topic1\", \"Topic1\", \"Topic1\", \"Topic1\", \"Topic1\", \"Topic1\", \"Topic1\", \"Topic1\", \"Topic1\", \"Topic1\", \"Topic1\", \"Topic1\", \"Topic1\", \"Topic1\", \"Topic1\", \"Topic1\", \"Topic1\", \"Topic1\", \"Topic1\", \"Topic1\", \"Topic1\", \"Topic1\", \"Topic1\", \"Topic1\", \"Topic1\", \"Topic1\", \"Topic1\", \"Topic1\", \"Topic1\", \"Topic1\", \"Topic1\", \"Topic1\", \"Topic1\", \"Topic1\", \"Topic1\", \"Topic1\", \"Topic1\", \"Topic1\", \"Topic1\", \"Topic1\", \"Topic1\", \"Topic1\", \"Topic1\", \"Topic1\", \"Topic1\", \"Topic1\", \"Topic1\", \"Topic1\", \"Topic1\", \"Topic1\", \"Topic1\", \"Topic1\", \"Topic1\", \"Topic1\", \"Topic2\", \"Topic2\", \"Topic2\", \"Topic2\", \"Topic2\", \"Topic2\", \"Topic2\", \"Topic2\", \"Topic2\", \"Topic2\", \"Topic2\", \"Topic2\", \"Topic2\", \"Topic2\", \"Topic2\", \"Topic2\", \"Topic2\", \"Topic2\", \"Topic2\", \"Topic2\", \"Topic2\", \"Topic2\", \"Topic2\", \"Topic2\", \"Topic2\", \"Topic2\", \"Topic2\", \"Topic2\", \"Topic2\", \"Topic2\", \"Topic2\", \"Topic2\", \"Topic2\", \"Topic2\", \"Topic2\", \"Topic2\", \"Topic2\", \"Topic2\", \"Topic2\", \"Topic2\", \"Topic2\", \"Topic2\", \"Topic2\", \"Topic2\", \"Topic2\", \"Topic2\", \"Topic2\", \"Topic2\", \"Topic2\", \"Topic2\", \"Topic2\", \"Topic2\", \"Topic2\", \"Topic2\", \"Topic2\", \"Topic2\", \"Topic2\", \"Topic2\", \"Topic2\", \"Topic2\", \"Topic3\", \"Topic3\", \"Topic3\", \"Topic3\", \"Topic3\", \"Topic3\", \"Topic3\", \"Topic3\", \"Topic3\", \"Topic3\", \"Topic3\", \"Topic3\", \"Topic3\", \"Topic3\", \"Topic3\", \"Topic3\", \"Topic3\", \"Topic3\", \"Topic3\", \"Topic3\", \"Topic3\", \"Topic3\", \"Topic3\", \"Topic3\", \"Topic3\", \"Topic3\", \"Topic3\", \"Topic3\", \"Topic3\", \"Topic3\", \"Topic3\", \"Topic3\", \"Topic3\", \"Topic3\", \"Topic3\", \"Topic3\", \"Topic3\", \"Topic3\", \"Topic3\", \"Topic3\", \"Topic3\", \"Topic3\", \"Topic3\", \"Topic3\", \"Topic3\", \"Topic3\", \"Topic3\", \"Topic3\", \"Topic3\", \"Topic3\", \"Topic3\", \"Topic3\", \"Topic3\", \"Topic3\", \"Topic3\", \"Topic3\", \"Topic3\", \"Topic3\", \"Topic3\", \"Topic3\", \"Topic3\", \"Topic3\", \"Topic3\", \"Topic3\", \"Topic3\", \"Topic3\", \"Topic3\", \"Topic3\", \"Topic3\", \"Topic4\", \"Topic4\", \"Topic4\", \"Topic4\", \"Topic4\", \"Topic4\", \"Topic4\", \"Topic4\", \"Topic4\", \"Topic4\", \"Topic4\", \"Topic4\", \"Topic4\", \"Topic4\", \"Topic4\", \"Topic4\", \"Topic4\", \"Topic4\", \"Topic4\", \"Topic4\", \"Topic4\", \"Topic4\", \"Topic4\", \"Topic4\", \"Topic4\", \"Topic4\", \"Topic4\", \"Topic4\", \"Topic4\", \"Topic4\", \"Topic4\", \"Topic4\", \"Topic4\", \"Topic4\", \"Topic4\", \"Topic4\", \"Topic4\", \"Topic4\", \"Topic4\", \"Topic4\", \"Topic4\", \"Topic4\", \"Topic4\", \"Topic4\", \"Topic4\", \"Topic4\", \"Topic4\", \"Topic4\", \"Topic4\", \"Topic4\", \"Topic4\", \"Topic4\", \"Topic4\", \"Topic4\", \"Topic4\", \"Topic4\", \"Topic4\", \"Topic4\", \"Topic4\", \"Topic4\", \"Topic4\", \"Topic4\"], \"Freq\": [1.0, 1.0, 4.0, 1.0, 6.0, 0.0, 6.0, 1.0, 0.0, 1.0, 0.0, 0.0, 1.0, 0.0, 0.0, 1.0, 5.0, 1.0, 1.0, 1.0, 0.0, 1.0, 0.0, 0.0, 0.0, 0.0, 1.0, 1.0, 0.0, 1.0, 0.9857988953590393, 0.8287604451179504, 1.0914864540100098, 1.079943299293518, 0.6712759137153625, 0.6711801886558533, 0.6711117625236511, 0.6700396537780762, 0.5134568810462952, 0.513339638710022, 0.5132001638412476, 0.5131497979164124, 0.5125485062599182, 0.5120921730995178, 1.1395610570907593, 0.5103645324707031, 0.503602921962738, 1.5109227895736694, 0.9798427224159241, 0.598859429359436, 0.4797986149787903, 0.4797739088535309, 1.4227044582366943, 0.5884221196174622, 0.3556743860244751, 0.35549166798591614, 0.4707924723625183, 0.3554055392742157, 0.35524895787239075, 0.35501158237457275, 1.7401418685913086, 1.5235977172851562, 2.729109764099121, 0.5804462432861328, 1.2543078660964966, 2.3051364421844482, 2.7854223251342773, 0.8861004710197449, 0.8952718377113342, 2.422050952911377, 2.7400245666503906, 4.481668472290039, 5.405613422393799, 5.248836517333984, 1.418564796447754, 0.7747771143913269, 1.0692365169525146, 0.9806011915206909, 0.6760344505310059, 0.9666056036949158, 1.3130980730056763, 2.9523487091064453, 1.3621273040771484, 1.162074089050293, 1.2633851766586304, 1.2535549402236938, 1.1919445991516113, 0.9985386729240417, 1.0125924348831177, 0.3957800567150116, 0.14792853593826294, 0.37543177604675293, 0.14478403329849243, 0.3673834204673767, 0.14151331782341003, 0.09130295366048813, 0.09124627709388733, 0.0911964401602745, 0.09118129312992096, 0.09119593352079391, 0.09120478481054306, 0.091105617582798, 0.09108537435531616, 0.13908852636814117, 0.09101136773824692, 0.13854625821113586, 0.09079807996749878, 0.15533727407455444, 0.17242108285427094, 0.10183869302272797, 0.16744042932987213, 0.10108988732099533, 0.39700832962989807, 0.1170743852853775, 0.0767485722899437, 0.09470247477293015, 0.11603906750679016, 0.08524054288864136, 0.13248324394226074, 0.2905232012271881, 0.2887129783630371, 0.11487732827663422, 0.7645015120506287, 0.18010622262954712, 0.42479392886161804, 0.6144337058067322, 0.216552734375, 0.3394153416156769, 0.21454232931137085, 0.16936230659484863, 0.9046259522438049, 0.17922770977020264, 0.22640585899353027, 0.18195199966430664, 0.1742364466190338, 0.16781039535999298, 0.3398674428462982, 0.18211743235588074, 0.25594988465309143, 0.3229159116744995, 0.2181483507156372, 0.2392634153366089, 0.2073303759098053, 0.21648873388767242, 0.2656639516353607, 0.201774001121521, 0.18198652565479279, 0.1982320249080658, 0.18413394689559937, 0.21280211210250854, 0.1103772446513176, 0.1066441535949707, 0.10660557448863983, 0.10643918812274933, 0.10613158345222473, 0.10585477203130722, 0.10570834577083588, 0.10563158243894577, 0.10549654811620712, 0.1054382473230362, 0.10521689057350159, 0.10512194782495499, 0.10472571104764938, 0.10468142479658127, 0.10454025119543076, 0.1045461967587471, 0.10435446351766586, 0.10424666106700897, 0.10424301773309708, 0.2364496886730194, 0.10398796945810318, 0.10349532216787338, 0.10295247286558151, 0.10266334563493729, 0.10164764523506165, 0.09742635488510132, 0.09732485562562943, 0.0766165554523468, 0.0765758827328682, 0.11411234736442566, 0.1371655911207199, 0.4506731331348419, 0.21271687746047974, 0.18491703271865845, 0.22402870655059814, 0.3940754532814026, 0.347650408744812, 0.1540183424949646, 0.3748057186603546, 0.23344875872135162, 0.21518613398075104, 0.22944383323192596, 0.21151001751422882, 0.47842931747436523, 0.2262430638074875, 0.15665984153747559, 0.18106600642204285, 0.1339859813451767, 0.24211549758911133, 0.1583830863237381, 0.28556278347969055, 0.2535679042339325, 0.1717175543308258, 0.24265338480472565, 0.15634191036224365, 0.23985019326210022, 0.4351866543292999, 0.221598282456398, 0.16961698234081268, 0.20667880773544312, 0.19529448449611664, 0.3270208537578583, 0.2974972426891327, 0.17705261707305908, 0.20492486655712128, 0.19997455179691315, 0.18755947053432465, 0.19016465544700623, 0.16124364733695984, 0.15308602154254913, 0.15265600383281708, 0.1252465397119522, 0.12436074018478394, 0.20709286630153656, 0.12039206922054291, 0.08669071644544601, 0.08667480200529099, 0.08658452332019806, 0.08645692467689514, 0.08645392954349518, 0.086473748087883, 0.08626283705234528, 0.08628715574741364, 0.08603115379810333, 0.5618390440940857, 0.08602811396121979, 0.08570101857185364, 0.0849580392241478, 0.08437768369913101, 0.12476493418216705, 0.20741508901119232, 0.1638142317533493, 0.1613766849040985, 0.0782330110669136, 0.07843980193138123, 0.11656573414802551, 0.07530627399682999, 0.11131398379802704, 0.2323717474937439, 0.27092447876930237, 0.18834127485752106, 0.3753400444984436, 0.2020871788263321, 0.24626930058002472, 0.5279213190078735, 0.30021557211875916, 0.19972430169582367, 0.36939382553100586, 0.21862594783306122, 0.1270350217819214, 0.2392851710319519, 0.18913023173809052, 0.7101122736930847, 0.16226305067539215, 0.3351908326148987, 0.8328800201416016, 0.6605596542358398, 0.3296768069267273, 0.3306539058685303, 0.3059137165546417, 0.2989886403083801, 0.2681873142719269, 0.2466239333152771, 0.21158871054649353, 0.28259730339050293, 0.3098317086696625, 0.22599467635154724, 0.20432250201702118, 0.200624480843544, 0.20095732808113098], \"Term\": [\"amp\", \"new\", \"nanodegree\", \"data\", \"course\", \"android\", \"learning\", \"thanks\", \"congratulations\", \"training\", \"sustaintraina\", \"science\", \"developer\", \"green\", \"added\", \"project\", \"day\", \"program\", \"completed\", \"udemy\", \"de\", \"courses\", \"help\", \"end\", \"build\", \"voyage\", \"self\", \"learn\", \"become\", \"driving\", \"prepared\", \"create\", \"slack\", \"discussion\", \"embedded\", \"roles\", \"society\", \"hiring\", \"recommendation\", \"industries\", \"movie\", \"healthcare\", \"product\", \"netflix\", \"gt\", \"ios\", \"beginning\", \"job\", \"studying\", \"methods\", \"processing\", \"revised\", \"participated\", \"reviewing\", \"download\", \"link\", \"language\", \"sertifikalari\", \"teachers\", \"rises\", \"lesson\", \"continue\", \"2\", \"drlnd\", \"showcase\", \"1\", \"machine\", \"49\", \"continuing\", \"3\", \"thank\", \"day\", \"course\", \"learning\", \"online\", \"6\", \"web\", \"4\", \"9\", \"please\", \"scholarship\", \"nanodegree\", \"skills\", \"via\", \"engineer\", \"ai\", \"projects\", \"free\", \"learn\", \"sustaintraina\", \"tiny\", \"green\", \"deliver\", \"added\", \"driverless\", \"kitty\", \"reminder\", \"hawk\", \"step\", \"vehicle\", \"meetups\", \"github\", \"studies\", \"inside\", \"flying\", \"voyages\", \"tem\", \"live\", \"something\", \"intr\", \"yes\", \"verge\", \"congratulations\", \"friday\", \"highest\", \"w\", \"thrun\", \"finished\", \"webcast\", \"help\", \"voyage\", \"sebastian\", \"amp\", \"way\", \"training\", \"new\", \"two\", \"de\", \"business\", \"e\", \"course\", \"gone\", \"able\", \"miles\", \"operate\", \"upstart\", \"data\", \"experience\", \"engineer\", \"nanodegree\", \"driving\", \"program\", \"tech\", \"ai\", \"learning\", \"self\", \"years\", \"day\", \"project\", \"ur\", \"resources\", \"tongue\", \"sowing\", \"bitterness\", \"libelous\", \"b\", \"heart\", \"kw\", \"slanderous\", \"revenge\", \"hatred\", \"reaping\", \"sharp\", \"evil\", \"void\", \"motioned\", \"deepest\", \"trump\", \"flat\", \"u\", \"leaving\", \"animosity\", \"rage\", \"darkest\", \"n\", \"music\", \"25\", \"spend\", \"hear\", \"law\", \"quiz\", \"thanks\", \"start\", \"founder\", \"python\", \"project\", \"udemy\", \"easy\", \"amp\", \"science\", \"one\", \"also\", \"made\", \"nanodegree\", \"code\", \"js\", \"company\", \"mind\", \"developer\", \"spun\", \"program\", \"completed\", \"ever\", \"self\", \"200\", \"time\", \"learning\", \"car\", \"intro\", \"driving\", \"app\", \"course\", \"day\", \"learned\", \"courses\", \"data\", \"tech\", \"skills\", \"twitter\", \"proof\", \"robotics\", \"everyone\", \"keep\", \"intelligence\", \"federated\", \"key\", \"moocs\", \"13\", \"gdrive\", \"05\", \"27\", \"miss\", \"example\", \"companies\", \"android\", \"starts\", \"wow\", \"buddy\", \"english\", \"interested\", \"cloud\", \"systems\", \"computing\", \"hey\", \"excited\", \"certified\", \"inspires\", \"certificate\", \"become\", \"end\", \"could\", \"science\", \"gb\", \"programming\", \"data\", \"build\", \"front\", \"developer\", \"work\", \"explore\", \"need\", \"artificial\", \"nanodegree\", \"autonomous\", \"completed\", \"learning\", \"day\", \"courses\", \"program\", \"new\", \"learn\", \"thanks\", \"like\", \"google\", \"thank\", \"course\", \"amp\", \"coding\", \"great\", \"machine\"], \"Total\": [1.0, 1.0, 4.0, 1.0, 6.0, 0.0, 6.0, 1.0, 0.0, 1.0, 0.0, 0.0, 1.0, 0.0, 0.0, 1.0, 5.0, 1.0, 1.0, 1.0, 0.0, 1.0, 0.0, 0.0, 0.0, 0.0, 1.0, 1.0, 0.0, 1.0, 1.015117883682251, 0.8577686548233032, 1.1336265802383423, 1.1248772144317627, 0.7000535130500793, 0.6999894976615906, 0.6999298334121704, 0.6991060972213745, 0.5421140789985657, 0.5420213937759399, 0.5419131517410278, 0.5418738126754761, 0.541416585445404, 0.541043758392334, 1.204140543937683, 0.5397623181343079, 0.5346619486808777, 1.605357050895691, 1.0445438623428345, 0.6432368159294128, 0.5156976580619812, 0.515919029712677, 1.5340211391448975, 0.6350510716438293, 0.3841909170150757, 0.38404980301856995, 0.5086279511451721, 0.38398677110671997, 0.3838672637939453, 0.38368305563926697, 1.8870055675506592, 1.6543601751327515, 2.9906046390533447, 0.6287810206413269, 1.3702607154846191, 2.5488226413726807, 3.2042205333709717, 0.9726750254631042, 0.9846656918525696, 2.7836239337921143, 3.2636396884918213, 5.637957572937012, 6.947091579437256, 6.782567501068115, 1.6416558027267456, 0.853484034538269, 1.2238752841949463, 1.1170207262039185, 0.7379206418991089, 1.1094478368759155, 1.6360822916030884, 4.46380615234375, 1.7430983781814575, 1.4950731992721558, 1.7245519161224365, 1.7152754068374634, 1.5885156393051147, 1.3590749502182007, 1.5375401973724365, 0.5926344394683838, 0.2292192429304123, 0.591849148273468, 0.22918477654457092, 0.5924201011657715, 0.22881647944450378, 0.149382084608078, 0.14950543642044067, 0.14945301413536072, 0.14945217967033386, 0.1494915932416916, 0.14951464533805847, 0.14956384897232056, 0.14968518912792206, 0.22868366539478302, 0.14976459741592407, 0.22825872898101807, 0.15054582059383392, 0.2640771269798279, 0.3020452857017517, 0.18794503808021545, 0.30939263105392456, 0.18794313073158264, 0.7458682656288147, 0.22204583883285522, 0.1472293585538864, 0.1841939389705658, 0.22639235854148865, 0.16635924577713013, 0.25866830348968506, 0.5848100185394287, 0.598649263381958, 0.2264227718114853, 1.8963075876235962, 0.3743840157985687, 1.0152944326400757, 1.5798075199127197, 0.4996786117553711, 0.952534556388855, 0.5138013362884521, 0.40552008152008057, 6.947091579437256, 0.4650675058364868, 0.7045595645904541, 0.4839596152305603, 0.4516564607620239, 0.45149847865104675, 1.718536615371704, 0.5436404943466187, 1.7245519161224365, 4.46380615234375, 1.2046715021133423, 1.8342270851135254, 1.2291332483291626, 1.7152754068374634, 6.782567501068115, 1.2979812622070312, 1.066672682762146, 5.637957572937012, 1.4216201305389404, 0.2731817960739136, 0.171030193567276, 0.1710984706878662, 0.17104102671146393, 0.17107994854450226, 0.17112217843532562, 0.1711370199918747, 0.17117071151733398, 0.17122188210487366, 0.1711636483669281, 0.1711805909872055, 0.17124424874782562, 0.17121483385562897, 0.17132578790187836, 0.17139069736003876, 0.171339750289917, 0.1714044213294983, 0.17136339843273163, 0.17142945528030396, 0.17143718898296356, 0.3891189694404602, 0.17148850858211517, 0.1715639978647232, 0.1715511679649353, 0.17162907123565674, 0.17180368304252625, 0.17249739170074463, 0.17244906723499298, 0.13640150427818298, 0.1363455057144165, 0.20885558426380157, 0.26810044050216675, 1.217927098274231, 0.4704023003578186, 0.3988611698150635, 0.5692923069000244, 1.4216201305389404, 1.3250235319137573, 0.3360704779624939, 1.8963075876235962, 0.7845979928970337, 0.688793420791626, 0.8242306709289551, 0.7252506613731384, 4.46380615234375, 0.8991807103157043, 0.4073787331581116, 0.5696914196014404, 0.29240506887435913, 1.1655983924865723, 0.44454532861709595, 1.8342270851135254, 1.3864564895629883, 0.5522222518920898, 1.2979812622070312, 0.4480903744697571, 1.3797111511230469, 6.782567501068115, 1.1585019826889038, 0.591667652130127, 1.2046715021133423, 0.9946131110191345, 6.947091579437256, 5.637957572937012, 0.7216842770576477, 1.519500732421875, 1.718536615371704, 1.2291332483291626, 1.7430983781814575, 0.22573433816432953, 0.22365409135818481, 0.22356361150741577, 0.18420568108558655, 0.18506431579589844, 0.3345373272895813, 0.1951407492160797, 0.14540913701057434, 0.14561207592487335, 0.14557018876075745, 0.1456017792224884, 0.1456078290939331, 0.14564800262451172, 0.1457778662443161, 0.14588038623332977, 0.14552849531173706, 0.953295111656189, 0.14615294337272644, 0.1460600644350052, 0.1470714658498764, 0.14717605710029602, 0.21893833577632904, 0.375497043132782, 0.297338604927063, 0.2962490916252136, 0.14462532103061676, 0.14639496803283691, 0.21976631879806519, 0.14415578544139862, 0.2192201018333435, 0.4580346941947937, 0.5428463220596313, 0.3720848560333252, 0.7845979928970337, 0.4193893074989319, 0.5717647671699524, 1.718536615371704, 0.8003753423690796, 0.4829966425895691, 1.1655983924865723, 0.5518208742141724, 0.2559903860092163, 0.6920415163040161, 0.4918256998062134, 4.46380615234375, 0.4132811427116394, 1.3864564895629883, 6.782567501068115, 5.637957572937012, 1.519500732421875, 1.8342270851135254, 1.5798075199127197, 1.5375401973724365, 1.217927098274231, 1.2952003479003906, 0.8326367139816284, 3.2636396884918213, 6.947091579437256, 1.8963075876235962, 1.197109341621399, 1.101610541343689, 3.2042205333709717], \"loglift\": [30.0, 29.0, 28.0, 27.0, 26.0, 25.0, 24.0, 23.0, 22.0, 21.0, 20.0, 19.0, 18.0, 17.0, 16.0, 15.0, 14.0, 13.0, 12.0, 11.0, 10.0, 9.0, 8.0, 7.0, 6.0, 5.0, 4.0, 3.0, 2.0, 1.0, 0.46149998903274536, 0.4564000070095062, 0.4528999924659729, 0.45010000467300415, 0.4487999975681305, 0.4487999975681305, 0.4487999975681305, 0.44839999079704285, 0.43650001287460327, 0.43650001287460327, 0.43639999628067017, 0.43639999628067017, 0.4359999895095825, 0.4357999861240387, 0.435699999332428, 0.43479999899864197, 0.4309999942779541, 0.4302000105381012, 0.4268999993801117, 0.41929998993873596, 0.4187000095844269, 0.41819998621940613, 0.4154999852180481, 0.4146000146865845, 0.41370001435279846, 0.41359999775886536, 0.41350001096725464, 0.41350001096725464, 0.4133000075817108, 0.4131999909877777, 0.4097999930381775, 0.40849998593330383, 0.3993000090122223, 0.4108000099658966, 0.4023999869823456, 0.3903000056743622, 0.3508000075817108, 0.397599995136261, 0.39559999108314514, 0.3517000079154968, 0.3158999979496002, 0.2612999975681305, 0.23989999294281006, 0.2345000058412552, 0.3447999954223633, 0.39410001039505005, 0.35569998621940613, 0.36059999465942383, 0.4032000005245209, 0.3529999852180481, 0.27090001106262207, 0.07739999890327454, 0.24420000612735748, 0.23890000581741333, 0.17960000038146973, 0.17720000445842743, 0.20360000431537628, 0.1826000064611435, 0.07320000231266022, 1.6367000341415405, 1.6024999618530273, 1.5852999687194824, 1.5812000036239624, 1.5627000331878662, 1.5599000453948975, 1.5480999946594238, 1.5467000007629395, 1.5464999675750732, 1.5463000535964966, 1.5462000370025635, 1.5462000370025635, 1.544800043106079, 1.5436999797821045, 1.5432000160217285, 1.5424000024795532, 1.541200041770935, 1.5348000526428223, 1.5097999572753906, 1.4797999858856201, 1.4277000427246094, 1.4264999628067017, 1.420300006866455, 1.4098999500274658, 1.4004000425338745, 1.3890000581741333, 1.3752000331878662, 1.3720999956130981, 1.3717999458312988, 1.371399998664856, 1.34089994430542, 1.3112000226974487, 1.361899971961975, 1.1319999694824219, 1.3086999654769897, 1.169100046157837, 1.0960999727249146, 1.204300045967102, 1.0085999965667725, 1.167099952697754, 1.1672999858856201, 0.0019000000320374966, 1.086899995803833, 0.9052000045776367, 1.0621999502182007, 1.0880000591278076, 1.0506999492645264, 0.4198000133037567, 0.9467999935150146, 0.13269999623298645, -0.5859000086784363, 0.33169999718666077, 0.003700000001117587, 0.260699987411499, -0.02930000051856041, -1.1993999481201172, 0.17910000681877136, 0.2721000015735626, -1.3073999881744385, -0.0034000000450760126, 1.7940000295639038, 1.6058000326156616, 1.5709999799728394, 1.5709999799728394, 1.569200038909912, 1.566100001335144, 1.5634000301361084, 1.5618000030517578, 1.5607000589370728, 1.5598000288009644, 1.5592000484466553, 1.5566999912261963, 1.555999994277954, 1.5514999628067017, 1.5506999492645264, 1.5497000217437744, 1.549399971961975, 1.5477999448776245, 1.5463000535964966, 1.5463000535964966, 1.5456000566482544, 1.5434999465942383, 1.5383000373840332, 1.5331000089645386, 1.5298999547958374, 1.5189000368118286, 1.472499966621399, 1.4716999530792236, 1.4670000076293945, 1.4667999744415283, 1.4392999410629272, 1.3736000061035156, 1.0496000051498413, 1.250100016593933, 1.274999976158142, 1.1110999584197998, 0.760699987411499, 0.7057999968528748, 1.2634999752044678, 0.42250001430511475, 0.8314999938011169, 0.880299985408783, 0.7649999856948853, 0.8115000128746033, -0.18950000405311584, 0.6639000177383423, 1.0880999565124512, 0.8974999785423279, 1.2632999420166016, 0.4722000062465668, 1.0117000341415405, 0.18379999697208405, 0.3449000120162964, 0.8756999969482422, 0.3668000102043152, 0.9908000230789185, 0.29409998655319214, -0.7026000022888184, 0.3896999955177307, 0.7943999767303467, 0.2809999883174896, 0.41589999198913574, -1.0123000144958496, -0.8981000185012817, 0.6385999917984009, 0.040300000458955765, -0.10729999840259552, 0.16380000114440918, -0.17180000245571136, 1.7164000272750854, 1.673799991607666, 1.6713999509811401, 1.667099952697754, 1.6553000211715698, 1.5733000040054321, 1.5699000358581543, 1.5356999635696411, 1.53410005569458, 1.5333000421524048, 1.531599998474121, 1.531599998474121, 1.531499981880188, 1.5282000303268433, 1.5277999639511108, 1.5271999835968018, 1.5240999460220337, 1.5228999853134155, 1.519700050354004, 1.50409996509552, 1.496500015258789, 1.4904999732971191, 1.4593000411987305, 1.4566999673843384, 1.4453999996185303, 1.4384000301361084, 1.4289000034332275, 1.4186999797821045, 1.403499960899353, 1.375100016593933, 1.3743000030517578, 1.3579000234603882, 1.371999979019165, 1.315500020980835, 1.3228000402450562, 1.2106000185012817, 0.8726000189781189, 1.0722999572753906, 1.169800043106079, 0.9036999940872192, 1.1269999742507935, 1.3522000312805176, 0.9908999800682068, 1.0972000360488892, 0.21449999511241913, 1.117900013923645, 0.6330999732017517, -0.04439999908208847, -0.09130000323057175, 0.5248000025749207, 0.33959999680519104, 0.41110000014305115, 0.41530001163482666, 0.5396000146865845, 0.39430001378059387, 0.6829000115394592, -0.3937000036239624, -1.0571999549865723, -0.07429999858140945, 0.2849000096321106, 0.3497999906539917, -0.7163000106811523], \"logprob\": [30.0, 29.0, 28.0, 27.0, 26.0, 25.0, 24.0, 23.0, 22.0, 21.0, 20.0, 19.0, 18.0, 17.0, 16.0, 15.0, 14.0, 13.0, 12.0, 11.0, 10.0, 9.0, 8.0, 7.0, 6.0, 5.0, 4.0, 3.0, 2.0, 1.0, -5.723999977111816, -5.897500038146973, -5.622099876403809, -5.632800102233887, -6.10830020904541, -6.108399868011475, -6.108500003814697, -6.110099792480469, -6.376299858093262, -6.376500129699707, -6.376800060272217, -6.3769001960754395, -6.377999782562256, -6.378900051116943, -5.578999996185303, -6.382299900054932, -6.395699977874756, -5.296999931335449, -5.730100154876709, -6.222400188446045, -6.4440999031066895, -6.4440999031066895, -5.357100009918213, -6.239999771118164, -6.7434000968933105, -6.743899822235107, -6.4629998207092285, -6.744200229644775, -6.74459981918335, -6.745299816131592, -5.155700206756592, -5.288599967956543, -4.705699920654297, -6.253600120544434, -5.483099937438965, -4.874499797821045, -4.685299873352051, -5.830599784851074, -5.820300102233887, -4.825099945068359, -4.701700210571289, -4.209700107574463, -4.022200107574463, -4.051700115203857, -5.360000133514404, -5.964900016784668, -5.6427001953125, -5.729300022125244, -6.101200103759766, -5.74370002746582, -5.437300205230713, -4.627099990844727, -5.400599956512451, -5.559500217437744, -5.475900173187256, -5.483699798583984, -5.53410005569458, -5.71120023727417, -5.697199821472168, -5.086900234222412, -6.071100234985352, -5.139699935913086, -6.092599868774414, -5.161399841308594, -6.1153998374938965, -6.553599834442139, -6.554200172424316, -6.554800033569336, -6.554900169372559, -6.554800033569336, -6.554699897766113, -6.555799961090088, -6.556000232696533, -6.132699966430664, -6.55679988861084, -6.136600017547607, -6.559199810028076, -6.022200107574463, -5.917900085449219, -6.444399833679199, -5.947199821472168, -6.4517998695373535, -5.083799839019775, -6.304999828338623, -6.72730016708374, -6.517099857330322, -6.313899993896484, -6.622300148010254, -6.181300163269043, -5.396100044250488, -5.402400016784668, -6.32390022277832, -4.428599834442139, -5.874199867248535, -5.016200065612793, -4.64709997177124, -5.690000057220459, -5.240600109100342, -5.6992998123168945, -5.935800075531006, -4.260300159454346, -5.8790998458862305, -5.645500183105469, -5.864099979400635, -5.907400131225586, -5.945000171661377, -5.239200115203857, -5.863100051879883, -5.522799968719482, -5.29040002822876, -5.682600021362305, -5.590199947357178, -5.733500003814697, -5.690299987792969, -5.485599994659424, -5.7606000900268555, -5.863900184631348, -5.77839994430542, -5.852099895477295, -5.704100131988525, -6.360599994659424, -6.394999980926514, -6.395400047302246, -6.396900177001953, -6.399799823760986, -6.402400016784668, -6.403800010681152, -6.404600143432617, -6.405799865722656, -6.406400203704834, -6.4085001945495605, -6.40939998626709, -6.4131999015808105, -6.413599967956543, -6.414899826049805, -6.414899826049805, -6.4166998863220215, -6.417799949645996, -6.417799949645996, -5.598800182342529, -6.420199871063232, -6.425000190734863, -6.430200099945068, -6.43310022354126, -6.442999839782715, -6.485400199890137, -6.486499786376953, -6.7256999015808105, -6.726200103759766, -6.327300071716309, -6.1433000564575195, -4.953800201416016, -5.704599857330322, -5.844600200653076, -5.652699947357178, -5.0879998207092285, -5.2133002281188965, -6.027400016784668, -5.1381001472473145, -5.611499786376953, -5.692999839782715, -5.628900051116943, -5.71019983291626, -4.894000053405762, -5.642899990081787, -6.01039981842041, -5.865699768066406, -6.166800022125244, -5.575099945068359, -5.999499797821045, -5.410099983215332, -5.528900146484375, -5.918700218200684, -5.57289981842041, -6.012499809265137, -5.584499835968018, -4.988699913024902, -5.663599967956543, -5.931000232696533, -5.73330020904541, -5.789999961853027, -5.274499893188477, -5.369100093841553, -5.8881001472473145, -5.7418999671936035, -5.766300201416016, -5.830399990081787, -5.8165998458862305, -5.972499847412109, -6.024400234222412, -6.027200222015381, -6.225100040435791, -6.2322001457214355, -5.7221999168396, -6.264699935913086, -6.593100070953369, -6.593200206756592, -6.594299793243408, -6.595799922943115, -6.595799922943115, -6.595600128173828, -6.5980000495910645, -6.597700119018555, -6.6006999015808105, -4.7241997718811035, -6.6006999015808105, -6.604499816894531, -6.6132001876831055, -6.620100021362305, -6.229000091552734, -5.720699787139893, -5.956699848175049, -5.971700191497803, -6.695700168609619, -6.6930999755859375, -6.296999931335449, -6.733799934387207, -6.343100070953369, -5.607100009918213, -5.45359992980957, -5.817200183868408, -5.127600193023682, -5.746699810028076, -5.548999786376953, -4.786499977111816, -5.350900173187256, -5.758500099182129, -5.143499851226807, -5.668000221252441, -6.210899829864502, -5.577700138092041, -5.813000202178955, -4.489999771118164, -5.96619987487793, -5.240699768066406, -4.33050012588501, -4.562300205230713, -5.257299900054932, -5.254300117492676, -5.332099914550781, -5.355000019073486, -5.463699817657471, -5.547500133514404, -5.700799942016602, -5.411399841308594, -5.319399833679199, -5.634900093078613, -5.7357001304626465, -5.754000186920166, -5.752299785614014]}, \"token.table\": {\"Topic\": [1, 1, 1, 1, 1, 1, 1, 1, 1, 2, 4, 1, 1, 1, 1, 1, 1, 1, 1, 2, 1, 1, 1, 4, 1, 4, 1, 1, 1, 1, 1, 1, 1, 1, 1, 1, 1, 1, 1, 1, 1, 4, 1, 1, 1, 1, 1, 1, 4, 1, 2, 1, 1, 1, 1, 1, 1, 1, 1, 1, 1, 1, 1, 1, 1, 1, 1, 1, 1, 1, 1, 1, 1, 1, 1, 1], \"Freq\": [0.7846760153770447, 1.0031416416168213, 0.7184878587722778, 0.8952385187149048, 1.028092622756958, 1.1716680526733398, 1.3551592826843262, 0.5829967856407166, 0.5273405909538269, 0.5273405909538269, 1.0489931106567383, 1.0054160356521606, 1.8703407049179077, 0.8631836771965027, 0.8353455662727356, 0.7212631702423096, 1.2089265584945679, 1.0155731439590454, 0.7197256684303284, 0.1439451277256012, 0.6581109166145325, 1.1658154726028442, 0.5818904042243958, 0.5818904042243958, 0.7094767689704895, 0.17736919224262238, 0.8889859318733215, 0.8301017880439758, 1.590378761291504, 1.428462266921997, 0.5798607468605042, 0.7357946038246155, 0.907761812210083, 0.8304678201675415, 1.8454481363296509, 1.4303981065750122, 1.8449456691741943, 1.8526673316955566, 1.2458287477493286, 0.6503894925117493, 0.7371839880943298, 0.14743679761886597, 1.059880256652832, 0.7720813155174255, 0.9362651705741882, 1.5546374320983887, 1.8453141450881958, 0.672072172164917, 0.22402407228946686, 1.848279356956482, 0.6329885125160217, 0.6091411113739014, 0.6518815159797668, 0.9013492465019226, 0.9851072430610657, 1.8470065593719482, 0.5451887845993042, 0.7034227848052979, 0.6295185089111328, 1.844630241394043, 1.574676513671875, 1.4285929203033447, 0.6112161874771118, 0.7704271674156189, 0.7297881245613098, 0.5736910700798035, 0.8821247220039368, 1.428714632987976, 0.9573556780815125, 0.8135814666748047, 0.9192191362380981, 0.7247893810272217, 0.7547035813331604, 0.6688635945320129, 0.8170767426490784, 0.937494695186615], \"Term\": [\"1\", \"2\", \"3\", \"4\", \"49\", \"6\", \"9\", \"ai\", \"amp\", \"amp\", \"android\", \"app\", \"beginning\", \"car\", \"coding\", \"completed\", \"continue\", \"continuing\", \"course\", \"course\", \"courses\", \"create\", \"data\", \"data\", \"day\", \"day\", \"discussion\", \"driving\", \"drlnd\", \"embedded\", \"engineer\", \"free\", \"great\", \"gt\", \"healthcare\", \"hiring\", \"industries\", \"ios\", \"job\", \"learn\", \"learning\", \"learning\", \"lesson\", \"like\", \"machine\", \"methods\", \"movie\", \"nanodegree\", \"nanodegree\", \"netflix\", \"new\", \"online\", \"participated\", \"please\", \"prepared\", \"product\", \"program\", \"project\", \"projects\", \"recommendation\", \"reviewing\", \"roles\", \"scholarship\", \"self\", \"showcase\", \"skills\", \"slack\", \"society\", \"studying\", \"tech\", \"thank\", \"time\", \"udemy\", \"via\", \"web\", \"years\"]}, \"R\": 30, \"lambda.step\": 0.01, \"plot.opts\": {\"xlab\": \"PC1\", \"ylab\": \"PC2\"}, \"topic.order\": [4, 1, 3, 2]};\n",
       "\n",
       "function LDAvis_load_lib(url, callback){\n",
       "  var s = document.createElement('script');\n",
       "  s.src = url;\n",
       "  s.async = true;\n",
       "  s.onreadystatechange = s.onload = callback;\n",
       "  s.onerror = function(){console.warn(\"failed to load library \" + url);};\n",
       "  document.getElementsByTagName(\"head\")[0].appendChild(s);\n",
       "}\n",
       "\n",
       "if(typeof(LDAvis) !== \"undefined\"){\n",
       "   // already loaded: just create the visualization\n",
       "   !function(LDAvis){\n",
       "       new LDAvis(\"#\" + \"ldavis_el2134423345656732646669331921\", ldavis_el2134423345656732646669331921_data);\n",
       "   }(LDAvis);\n",
       "}else if(typeof define === \"function\" && define.amd){\n",
       "   // require.js is available: use it to load d3/LDAvis\n",
       "   require.config({paths: {d3: \"https://cdnjs.cloudflare.com/ajax/libs/d3/3.5.5/d3.min\"}});\n",
       "   require([\"d3\"], function(d3){\n",
       "      window.d3 = d3;\n",
       "      LDAvis_load_lib(\"https://cdn.rawgit.com/bmabey/pyLDAvis/files/ldavis.v1.0.0.js\", function(){\n",
       "        new LDAvis(\"#\" + \"ldavis_el2134423345656732646669331921\", ldavis_el2134423345656732646669331921_data);\n",
       "      });\n",
       "    });\n",
       "}else{\n",
       "    // require.js not available: dynamically load d3 & LDAvis\n",
       "    LDAvis_load_lib(\"https://cdnjs.cloudflare.com/ajax/libs/d3/3.5.5/d3.min.js\", function(){\n",
       "         LDAvis_load_lib(\"https://cdn.rawgit.com/bmabey/pyLDAvis/files/ldavis.v1.0.0.js\", function(){\n",
       "                 new LDAvis(\"#\" + \"ldavis_el2134423345656732646669331921\", ldavis_el2134423345656732646669331921_data);\n",
       "            })\n",
       "         });\n",
       "}\n",
       "</script>"
      ],
      "text/plain": [
       "PreparedData(topic_coordinates=                x           y  topics  cluster       Freq\n",
       "topic                                                    \n",
       "3      717.098206 -274.787933       1        1  61.212318\n",
       "0     -497.595306 -238.658997       2        1  12.996777\n",
       "2       91.696190 -863.767029       3        1  12.954168\n",
       "1      127.807060  350.324554       4        1  12.836737, topic_info=    Category      Freq             Term     Total  loglift  logprob\n",
       "384  Default  1.000000              amp  1.000000  30.0000  30.0000\n",
       "11   Default  1.000000              new  1.000000  29.0000  29.0000\n",
       "163  Default  4.000000       nanodegree  4.000000  28.0000  28.0000\n",
       "8    Default  1.000000             data  1.000000  27.0000  27.0000\n",
       "7    Default  6.000000           course  6.000000  26.0000  26.0000\n",
       "131  Default  0.000000          android  0.000000  25.0000  25.0000\n",
       "121  Default  6.000000         learning  6.000000  24.0000  24.0000\n",
       "177  Default  1.000000           thanks  1.000000  23.0000  23.0000\n",
       "29   Default  0.000000  congratulations  0.000000  22.0000  22.0000\n",
       "13   Default  1.000000         training  1.000000  21.0000  21.0000\n",
       "12   Default  0.000000    sustaintraina  0.000000  20.0000  20.0000\n",
       "166  Default  0.000000          science  0.000000  19.0000  19.0000\n",
       "379  Default  1.000000        developer  1.000000  18.0000  18.0000\n",
       "10   Default  0.000000            green  0.000000  17.0000  17.0000\n",
       "6    Default  0.000000            added  0.000000  16.0000  16.0000\n",
       "150  Default  1.000000          project  1.000000  15.0000  15.0000\n",
       "147  Default  5.000000              day  5.000000  14.0000  14.0000\n",
       "51   Default  1.000000          program  1.000000  13.0000  13.0000\n",
       "162  Default  1.000000        completed  1.000000  12.0000  12.0000\n",
       "127  Default  1.000000            udemy  1.000000  11.0000  11.0000\n",
       "900  Default  0.000000               de  0.000000  10.0000  10.0000\n",
       "16   Default  1.000000          courses  1.000000   9.0000   9.0000\n",
       "689  Default  0.000000             help  0.000000   8.0000   8.0000\n",
       "580  Default  0.000000              end  0.000000   7.0000   7.0000\n",
       "245  Default  0.000000            build  0.000000   6.0000   6.0000\n",
       "671  Default  0.000000           voyage  0.000000   5.0000   5.0000\n",
       "620  Default  1.000000             self  1.000000   4.0000   4.0000\n",
       "645  Default  1.000000            learn  1.000000   3.0000   3.0000\n",
       "640  Default  0.000000           become  0.000000   2.0000   2.0000\n",
       "617  Default  1.000000          driving  1.000000   1.0000   1.0000\n",
       "..       ...       ...              ...       ...      ...      ...\n",
       "533   Topic4  0.188341            could  0.372085   1.3720  -5.8172\n",
       "166   Topic4  0.375340          science  0.784598   1.3155  -5.1276\n",
       "819   Topic4  0.202087               gb  0.419389   1.3228  -5.7467\n",
       "165   Topic4  0.246269      programming  0.571765   1.2106  -5.5490\n",
       "8     Topic4  0.527921             data  1.718537   0.8726  -4.7865\n",
       "245   Topic4  0.300216            build  0.800375   1.0723  -5.3509\n",
       "754   Topic4  0.199724            front  0.482997   1.1698  -5.7585\n",
       "379   Topic4  0.369394        developer  1.165598   0.9037  -5.1435\n",
       "217   Topic4  0.218626             work  0.551821   1.1270  -5.6680\n",
       "854   Topic4  0.127035          explore  0.255990   1.3522  -6.2109\n",
       "467   Topic4  0.239285             need  0.692042   0.9909  -5.5777\n",
       "850   Topic4  0.189130       artificial  0.491826   1.0972  -5.8130\n",
       "163   Topic4  0.710112       nanodegree  4.463806   0.2145  -4.4900\n",
       "851   Topic4  0.162263       autonomous  0.413281   1.1179  -5.9662\n",
       "162   Topic4  0.335191        completed  1.386456   0.6331  -5.2407\n",
       "121   Topic4  0.832880         learning  6.782568  -0.0444  -4.3305\n",
       "147   Topic4  0.660560              day  5.637958  -0.0913  -4.5623\n",
       "16    Topic4  0.329677          courses  1.519501   0.5248  -5.2573\n",
       "51    Topic4  0.330654          program  1.834227   0.3396  -5.2543\n",
       "11    Topic4  0.305914              new  1.579808   0.4111  -5.3321\n",
       "645   Topic4  0.298989            learn  1.537540   0.4153  -5.3550\n",
       "177   Topic4  0.268187           thanks  1.217927   0.5396  -5.4637\n",
       "122   Topic4  0.246624             like  1.295200   0.3943  -5.5475\n",
       "408   Topic4  0.211589           google  0.832637   0.6829  -5.7008\n",
       "235   Topic4  0.282597            thank  3.263640  -0.3937  -5.4114\n",
       "7     Topic4  0.309832           course  6.947092  -1.0572  -5.3194\n",
       "384   Topic4  0.225995              amp  1.896308  -0.0743  -5.6349\n",
       "168   Topic4  0.204323           coding  1.197109   0.2849  -5.7357\n",
       "173   Topic4  0.200624            great  1.101611   0.3498  -5.7540\n",
       "267   Topic4  0.200957          machine  3.204221  -0.7163  -5.7523\n",
       "\n",
       "[280 rows x 6 columns], token_table=      Topic      Freq            Term\n",
       "term                                 \n",
       "87        1  0.784676               1\n",
       "145       1  1.003142               2\n",
       "244       1  0.718488               3\n",
       "218       1  0.895239               4\n",
       "1215      1  1.028093              49\n",
       "195       1  1.171668               6\n",
       "977       1  1.355159               9\n",
       "53        1  0.582997              ai\n",
       "384       1  0.527341             amp\n",
       "384       2  0.527341             amp\n",
       "131       4  1.048993         android\n",
       "73        1  1.005416             app\n",
       "196       1  1.870341       beginning\n",
       "625       1  0.863184             car\n",
       "168       1  0.835346          coding\n",
       "162       1  0.721263       completed\n",
       "401       1  1.208927        continue\n",
       "222       1  1.015573      continuing\n",
       "7         1  0.719726          course\n",
       "7         2  0.143945          course\n",
       "16        1  0.658111         courses\n",
       "1085      1  1.165815          create\n",
       "8         1  0.581890            data\n",
       "8         4  0.581890            data\n",
       "147       1  0.709477             day\n",
       "147       4  0.177369             day\n",
       "148       1  0.888986      discussion\n",
       "617       1  0.830102         driving\n",
       "1013      1  1.590379           drlnd\n",
       "1164      1  1.428462        embedded\n",
       "...     ...       ...             ...\n",
       "1443      1  1.845314           movie\n",
       "163       1  0.672072      nanodegree\n",
       "163       4  0.224024      nanodegree\n",
       "1444      1  1.848279         netflix\n",
       "11        2  0.632989             new\n",
       "719       1  0.609141          online\n",
       "149       1  0.651882    participated\n",
       "31        1  0.901349          please\n",
       "630       1  0.985107        prepared\n",
       "329       1  1.847007         product\n",
       "51        1  0.545189         program\n",
       "150       1  0.703423         project\n",
       "631       1  0.629519        projects\n",
       "1445      1  1.844630  recommendation\n",
       "1018      1  1.574677       reviewing\n",
       "1166      1  1.428593           roles\n",
       "4         1  0.611216     scholarship\n",
       "620       1  0.770427            self\n",
       "151       1  0.729788        showcase\n",
       "20        1  0.573691          skills\n",
       "152       1  0.882125           slack\n",
       "1168      1  1.428715         society\n",
       "347       1  0.957356        studying\n",
       "52        1  0.813581            tech\n",
       "235       1  0.919219           thank\n",
       "614       1  0.724789            time\n",
       "127       1  0.754704           udemy\n",
       "326       1  0.668864             via\n",
       "36        1  0.817077             web\n",
       "203       1  0.937495           years\n",
       "\n",
       "[76 rows x 3 columns], R=30, lambda_step=0.01, plot_opts={'xlab': 'PC1', 'ylab': 'PC2'}, topic_order=[4, 1, 3, 2])"
      ]
     },
     "execution_count": 92,
     "metadata": {},
     "output_type": "execute_result"
    }
   ],
   "source": [
    "import pyLDAvis.gensim\n",
    "\n",
    "pyLDAvis.enable_notebook()\n",
    "panel = pyLDAvis.gensim.prepare(lda, corpus_lda, dictionary, mds='tsne')\n",
    "panel"
   ]
  },
  {
   "cell_type": "code",
   "execution_count": null,
   "metadata": {},
   "outputs": [],
   "source": []
  },
  {
   "cell_type": "code",
   "execution_count": null,
   "metadata": {},
   "outputs": [],
   "source": []
  }
 ],
 "metadata": {
  "kernelspec": {
   "display_name": "Python 3",
   "language": "python",
   "name": "python3"
  },
  "language_info": {
   "codemirror_mode": {
    "name": "ipython",
    "version": 3
   },
   "file_extension": ".py",
   "mimetype": "text/x-python",
   "name": "python",
   "nbconvert_exporter": "python",
   "pygments_lexer": "ipython3",
   "version": "3.7.3"
  }
 },
 "nbformat": 4,
 "nbformat_minor": 2
}
